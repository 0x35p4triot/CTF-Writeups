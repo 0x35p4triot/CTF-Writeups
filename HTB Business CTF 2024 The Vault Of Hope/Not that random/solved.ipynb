{
 "cells": [
  {
   "cell_type": "code",
   "execution_count": 4,
   "metadata": {},
   "outputs": [
    {
     "name": "stdout",
     "output_type": "stream",
     "text": [
      "[x] Starting local process '/usr/bin/python3'\n",
      "[+] Starting local process '/usr/bin/python3': pid 46728\n"
     ]
    },
    {
     "name": "stderr",
     "output_type": "stream",
     "text": [
      "/tmp/ipykernel_46248/296526406.py:12: BytesWarning: Text is not bytes; assuming ASCII, no guarantees. See https://docs.pwntools.com/#bytes\n",
      "  f.sendline((b\"Improving on the security of SHA is easy\").hex())\n"
     ]
    },
    {
     "name": "stdout",
     "output_type": "stream",
     "text": [
      "<built-in function hash>\n"
     ]
    },
    {
     "name": "stderr",
     "output_type": "stream",
     "text": [
      "100%|██████████| 100/100 [00:00<00:00, 3019.09it/s]"
     ]
    },
    {
     "name": "stdout",
     "output_type": "stream",
     "text": [
      "b\"\\x1b[92m[+] Winner winner chicken dinner! Thank you for playing, here's your flag :: HTB_KCSC_LEAK_FLAG \\x1b[0m\\n\\nMake a choice:\\n\\n1. Buy flag (-500 coins)\\n2. Buy hint (-10 coins)\\n3. Play (+5/-10 coins)\\n4. Print balance (free)\\n5. Exit\\nOption: \"\n",
      "[*] Switching to interactive mode\n"
     ]
    },
    {
     "name": "stderr",
     "output_type": "stream",
     "text": [
      "\n"
     ]
    },
    {
     "name": "stdout",
     "output_type": "stream",
     "text": [
      "[*] Interrupted\n"
     ]
    }
   ],
   "source": [
    "from Crypto.Util.number import *\n",
    "from pwn import *\n",
    "from tqdm import tqdm\n",
    "from hashlib import *\n",
    "\n",
    "# f = connect(\"83.136.248.97\", 35702, level = 'debug')\n",
    "f = process([\"python3\", \"server.py\"])\n",
    "\n",
    "f.recvline()\n",
    "f.sendlineafter(b\"Option: \", b\"2\")\n",
    "f.recvuntil(b\"Enter your input in hex :: \")\n",
    "f.sendline((b\"Improving on the security of SHA is easy\").hex())\n",
    "f.recvuntil(b\"Your output is :: \")\n",
    "\n",
    "hash_key = bytes.fromhex(f.recvline()[:-1].decode()[-64:])\n",
    "print(hash)\n",
    "\n",
    "def keyed_hash(key, inp):\n",
    "    return sha256(key + inp).digest()\n",
    "\n",
    "for i in tqdm(range(100)):\n",
    "    f.sendlineafter(b\"Option: \", b\"3\")\n",
    "    f.recvuntil(b\"I used input \")\n",
    "    inp = bytes.fromhex(f.recvline()[:-1].decode())\n",
    "    f.recvuntil(b\"I got output \")\n",
    "    out = bytes.fromhex(f.recvline()[:-1].decode())\n",
    "    if out.startswith(keyed_hash(hash_key, inp)):\n",
    "        f.sendlineafter(b\":: \", str(0).encode())\n",
    "    else:\n",
    "        f.sendlineafter(b\":: \", str(1).encode())\n",
    "\n",
    "f.sendlineafter(b\"Option: \", b\"4\")\n",
    "f.sendlineafter(b\"Option: \", b\"1\")\n",
    "print(f.recv())\n",
    "f.interactive()"
   ]
  }
 ],
 "metadata": {
  "kernelspec": {
   "display_name": "SageMath 9.5",
   "language": "sage",
   "name": "sagemath"
  },
  "language_info": {
   "codemirror_mode": {
    "name": "ipython",
    "version": 3
   },
   "file_extension": ".py",
   "mimetype": "text/x-python",
   "name": "python",
   "nbconvert_exporter": "python",
   "pygments_lexer": "ipython3",
   "version": "3.10.12"
  }
 },
 "nbformat": 4,
 "nbformat_minor": 2
}
