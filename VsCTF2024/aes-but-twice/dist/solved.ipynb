{
 "cells": [
  {
   "cell_type": "code",
   "execution_count": 1,
   "metadata": {},
   "outputs": [
    {
     "name": "stdout",
     "output_type": "stream",
     "text": [
      "[x] Opening connection to vsc.tf on port 5000\n",
      "[x] Opening connection to vsc.tf on port 5000: Trying 34.46.154.169\n",
      "[+] Opening connection to vsc.tf on port 5000: Done\n",
      "[DEBUG] Received 0x113 bytes:\n",
      "    b'e2bbfe0ee31841d1ac47b00f4c03788080ac5600fc4867b7315e7106bfbc51bab791342bca143f6d725dcfeede2961fbe1f7930a80ead1d53663e3bfcf446389\\n'\n",
      "    b'd9e3180f2d16d075a4fe28876b4d7893891352541d94ac0451d29a1e3dcb0a028f002882590a2e44634fbdf6077d814f9e65c431ca694e40a8017b4a9044d9ad\\n'\n",
      "    b'0d5c74d07493fb9c\\n'\n",
      "[DEBUG] Sent 0x21 bytes:\n",
      "    b'9339b0e1befab5dca8017b4a9044d9ad\\n'\n",
      "[DEBUG] Received 0x82 bytes:\n",
      "    b'74c498fad48c1bd9be69d97c0d87c328e7cbb1f86c341452474e0bb1e6077004\\n'\n",
      "    b'94c89d7a85632cb4f330d56113601ae3e722bc518a0d775fc840ffa94fff1b6e\\n'\n",
      "[DEBUG] Sent 0x21 bytes:\n",
      "    b'ea7ec881fe9e8cc3c840ffa94fff1b6f\\n'\n",
      "[DEBUG] Received 0x82 bytes:\n",
      "    b'0283bd88f405dbf53d1cbbd862f90a435abdbfbded14e3da97199de9453c7a7c\\n'\n",
      "    b'df9a3538c97d5382026f4637898f69de68b74ae51fc213682cfbf61baba70f9b\\n'\n",
      "[DEBUG] Sent 0x21 bytes:\n",
      "    b'65eb3e356b51e8f42cfbf61baba70f99\\n'\n",
      "[DEBUG] Received 0x82 bytes:\n",
      "    b'3546744941fd22b200c9e1d1ca8b0adda6613e7dfedd846891d16d36574aeabf\\n'\n",
      "    b'82ec3a25c41a31637c53c1e0d0276ff5e6e7f8efdaa8d9b9a4e60b6e850d92f3\\n'\n",
      "flag : b'vsctf{me_wen_cbc_6c855453171638d5}'\n"
     ]
    }
   ],
   "source": [
    "import os\n",
    "from Crypto.Cipher import AES\n",
    "from Crypto.Util.Padding import pad, unpad\n",
    "from Crypto.Util import Counter\n",
    "from pwn import*\n",
    "\n",
    "f = remote(\"vsc.tf\", 5000, level = 'debug')\n",
    "ctf_flag = bytes.fromhex(f.recvline().decode())\n",
    "cbc_flag = bytes.fromhex(f.recvline().decode())\n",
    "nonce = bytes.fromhex(f.recvline().decode())\n",
    "\n",
    "\n",
    "f.sendline((xor(cbc_flag[-16:],nonce + b'\\x00\\x00\\x00\\x00\\x00\\x00\\x00\\x00').hex()).encode())\n",
    "f.recvuntil(b'\\n')\n",
    "out1 = f.recvuntil(b'\\n',drop=True).decode()\n",
    "out1 = bytes.fromhex(out1)\n",
    "a = (xor(out1[:16],ctf_flag[:16]))\n",
    "\n",
    "f.sendline((xor(out1[16:32],nonce + b'\\x00\\x00\\x00\\x00\\x00\\x00\\x00\\x01').hex()).encode())\n",
    "f.recvuntil(b'\\n')\n",
    "out2 = f.recvuntil(b'\\n',drop=True).decode()\n",
    "out2 = bytes.fromhex(out2)\n",
    "b = (xor(out2[:16],ctf_flag[16:32]))\n",
    "\n",
    "f.sendline((xor(out2[-16:],nonce + b'\\x00\\x00\\x00\\x00\\x00\\x00\\x00\\x02').hex()).encode())\n",
    "f.recvuntil(b'\\n')\n",
    "out3 = f.recvuntil(b'\\n',drop=True).decode()\n",
    "out3 = bytes.fromhex(out3)\n",
    "c = unpad(xor(out3[:16],ctf_flag[32:48]), 16)\n",
    "\n",
    "print(f\"flag : {a + b + c}\")"
   ]
  }
 ],
 "metadata": {
  "kernelspec": {
   "display_name": "Python 3",
   "language": "python",
   "name": "python3"
  },
  "language_info": {
   "codemirror_mode": {
    "name": "ipython",
    "version": 3
   },
   "file_extension": ".py",
   "mimetype": "text/x-python",
   "name": "python",
   "nbconvert_exporter": "python",
   "pygments_lexer": "ipython3",
   "version": "3.10.12"
  }
 },
 "nbformat": 4,
 "nbformat_minor": 2
}
