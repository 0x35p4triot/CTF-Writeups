{
 "cells": [
  {
   "cell_type": "code",
   "execution_count": 7,
   "metadata": {},
   "outputs": [
    {
     "name": "stdout",
     "output_type": "stream",
     "text": [
      "[9953162929836910171, 11771834931016130837, 12109985960354612149, 13079524394617385153, 17129880600534041513] \n",
      "\n",
      "b'FLAG{S0_3a5y_1254!!}'\n"
     ]
    }
   ],
   "source": [
    "from Crypto.Util.number import *\n",
    "from factordb.factordb import FactorDB\n",
    "\n",
    "\n",
    "n = 317903423385943473062528814030345176720578295695512495346444822768171649361480819163749494400347\n",
    "e = 65537\n",
    "enc = 127075137729897107295787718796341877071536678034322988535029776806418266591167534816788125330265\n",
    "\n",
    "f = FactorDB(n)\n",
    "f.connect()\n",
    "p= f.get_factor_list()\n",
    "print(p , \"\\n\")\n",
    "\n",
    "d = inverse(65537, (p[0] - 1)* (p[1] - 1) * (p[2] - 1) * (p[3] - 1) * (p[4] - 1))\n",
    "n = p[0] * p[1] * p[2] * p[3] * p[4]\n",
    "\n",
    "print(long_to_bytes(pow(enc, d, n)))"
   ]
  }
 ],
 "metadata": {
  "kernelspec": {
   "display_name": "Python 3",
   "language": "python",
   "name": "python3"
  },
  "language_info": {
   "codemirror_mode": {
    "name": "ipython",
    "version": 3
   },
   "file_extension": ".py",
   "mimetype": "text/x-python",
   "name": "python",
   "nbconvert_exporter": "python",
   "pygments_lexer": "ipython3",
   "version": "3.10.12"
  }
 },
 "nbformat": 4,
 "nbformat_minor": 2
}
