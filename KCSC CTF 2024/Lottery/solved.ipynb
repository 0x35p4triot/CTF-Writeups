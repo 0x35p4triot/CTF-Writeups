{
 "cells": [
  {
   "cell_type": "code",
   "execution_count": null,
   "metadata": {},
   "outputs": [],
   "source": [
    "from xorshift128p_crack import * \n",
    "from hashlib import sha256 \n",
    "import itertools\n",
    "from pwn import * \n",
    "import math\n",
    "# r = process([\"python3\", \"server.py\"])\n",
    "r = remote(\"103.163.24.78\", 2005)\n",
    "context.log_level = 'debug'\n",
    "\n",
    "def find_string(prefix, suffix):\n",
    "    chars = string.ascii_letters + string.digits\n",
    "    for length in itertools.count(1):\n",
    "        for s in itertools.product(chars, repeat=length):\n",
    "            candidate = prefix + ''.join(s)\n",
    "            if hashlib.sha256(candidate.encode()).hexdigest()[-6:] == suffix:\n",
    "                return candidate\n",
    "\n",
    "line = r.recvlineS().strip()\n",
    "prefix = line.split('\"')[1]\n",
    "suffix = line.split(' ')[-1]\n",
    "r.sendline(find_string(prefix, suffix).encode())\n",
    "alphabet = 'abcdefghijklmnopqrstuvwxyz'\n",
    "for i in range(50):\n",
    "    r.recvuntil(b'/50\\n')\n",
    "    prefix = r.recvlineS().strip()\n",
    "    hash = r.recvlineS().strip()\n",
    "    r.recvlineS()\n",
    "    print(prefix)\n",
    "    state = []\n",
    "    for char in prefix:\n",
    "        state.append(alphabet.index(char))\n",
    "    randSolver = RandomSolver()\n",
    "    for i in range(80):\n",
    "        randSolver.submit_random_mul_const(state[i], 26)\n",
    "    randSolver.solve()\n",
    "    randomFunc = randSolver.answers[0].random \n",
    "    test = prefix[:80]\n",
    "    for i in range(192-80):\n",
    "        test += alphabet[math.floor(randomFunc()*26)]\n",
    "    print(test)\n",
    "    assert test == prefix\n",
    "    ans = \"\"\n",
    "    for i in range(128):\n",
    "        ans += alphabet[math.floor(randomFunc()*26)]\n",
    "    assert sha256(ans.encode()).hexdigest() == hash\n",
    "    r.sendline(ans.encode())\n",
    "r.interactive()"
   ]
  }
 ],
 "metadata": {
  "kernelspec": {
   "display_name": "Python 3",
   "language": "python",
   "name": "python3"
  },
  "language_info": {
   "name": "python",
   "version": "3.10.12"
  }
 },
 "nbformat": 4,
 "nbformat_minor": 2
}
