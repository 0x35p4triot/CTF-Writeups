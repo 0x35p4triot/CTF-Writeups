{
 "cells": [
  {
   "cell_type": "code",
   "execution_count": 12,
   "metadata": {},
   "outputs": [
    {
     "name": "stdout",
     "output_type": "stream",
     "text": [
      "AKASEC{d1d_y0u_3nj0y_c41cu1u5_101?}\n",
      "AKASEC{d1d_y0u_3nj0y_c41cu1u5_101?}\n"
     ]
    },
    {
     "ename": "",
     "evalue": "",
     "output_type": "error",
     "traceback": [
      "\u001b[1;31mThe Kernel crashed while executing code in the current cell or a previous cell. \n",
      "\u001b[1;31mPlease review the code in the cell(s) to identify a possible cause of the failure. \n",
      "\u001b[1;31mClick <a href='https://aka.ms/vscodeJupyterKernelCrash'>here</a> for more info. \n",
      "\u001b[1;31mView Jupyter <a href='command:jupyter.viewOutput'>log</a> for further details."
     ]
    }
   ],
   "source": [
    "from Crypto.Cipher import AES\n",
    "from Crypto.Util.Padding import pad\n",
    "import hashlib\n",
    "import sympy as sp\n",
    "\n",
    "\n",
    "euler_value = sp.E\n",
    "\n",
    "\n",
    "Encrypted = bytes.fromhex('805534c14e694348a67da0d75165623cf603c2a98405b34fe3ba8752ce24f5040c39873ec2150a61591b233490449b8b7bedaf83aa9d4b57d6469cd3f78fdf55')\n",
    "iv = Encrypted[0:16]\n",
    "encrypt = Encrypted[16:]\n",
    "def decrypt(encrypted, key):\n",
    "    encrypted_bytes = encrypted\n",
    "    iv = encrypted_bytes[:16]\n",
    "    ciphertext = encrypted_bytes[16:]\n",
    "    \n",
    "    \n",
    "    \n",
    "    cipher = AES.new(key, AES.MODE_CBC, iv)\n",
    "    decrypted_message = cipher.decrypt(ciphertext)\n",
    "    \n",
    "    return decrypted_message\n",
    "\n",
    "x = sp.Symbol('x')\n",
    "\n",
    "\n",
    "array = [[0, 14], [14, 0], [2, 12], [12, 2], [2, 14], [14, 2], [4, 10], [10, 4], [4, 14], [14, 4], [6, 8], [8, 6], [6, 10], [10, 6], [6, 12], [12, 6], [6, 14], [14, 6], [8, 6], [6, 8], [8, 14], [14, 8], [10, 4], [4, 10], [10, 6], [6, 10], [10, 12], [12, 10], [10, 14], [14, 10], [12, 2], [2, 12], [12, 6], [6, 12], [12, 10], [10, 12], [12, 14], [14, 12], [14, 0], [0, 14], [14, 2], [2, 14], [14, 4], [4, 14], [14, 6], [6, 14], [14, 8], [8, 14], [14, 10], [10, 14], [14, 12], [12, 14], [14, 14], [14, 14]]\n",
    "\n",
    "\n",
    "key = 60\n",
    "\n",
    "\n",
    "for val in array:\n",
    "    c1 = val[0]\n",
    "    c2 = val[1]\n",
    "    C1, C2 = sp.symbols('C1 C2')\n",
    "    f = C1 * euler_value ** (((3 + sp.sqrt(3)) / 2) * x) + C2 * euler_value ** (((3 - sp.sqrt(3)) / 2) * x)\n",
    "    f_prime = sp.diff(f, x)\n",
    "    \n",
    "    \n",
    "    f_second_prime = sp.diff(f_prime, x)\n",
    "    init_cond_1 = f.subs(x, 0) - c1\n",
    "    init_cond_2 = f_prime.subs(x, 0)- c2\n",
    "    sol = sp.solve([init_cond_1, init_cond_2], (C1, C2)) \n",
    "    \n",
    "    f = f.subs(sol)\n",
    "  \n",
    "   \n",
    "    point = f.subs(x, key).evalf(100)\n",
    "    \n",
    "    point_hash = hashlib.sha256(str(point).encode()).digest()[:16]\n",
    "   \n",
    "    \n",
    "    decrypted_message = decrypt(Encrypted,point_hash)\n",
    "    try :\n",
    "        print(decrypted_message.decode())\n",
    "        exit()\n",
    "    except :\n",
    "        pass"
   ]
  },
  {
   "cell_type": "code",
   "execution_count": null,
   "metadata": {},
   "outputs": [],
   "source": [
    "from Crypto.Cipher import AES\n",
    "from Crypto.Util.Padding import unpad\n",
    "import hashlib\n",
    "import sympy as sp\n",
    "array = []\n",
    "for x in range(100) :\n",
    "    for y in range(100) :\n",
    "        if  x | y == 14 :\n",
    "            array.append([x,y])\n",
    "            array.append([y,x])\n",
    "for x in array :\n",
    "    assert (x[0] | x[1]) == 14\n",
    "print(array)"
   ]
  },
  {
   "cell_type": "code",
   "execution_count": null,
   "metadata": {},
   "outputs": [],
   "source": [
    "from sage.all import *\n",
    "import hashlib\n",
    "import sympy as sp\n",
    "from Crypto.Cipher import AES\n",
    "\n",
    "key = 60\n",
    "encrypted = bytes.fromhex(\"805534c14e694348a67da0d75165623cf603c2a98405b34fe3ba8752ce24f5040c39873ec2150a61591b233490449b8b7bedaf83aa9d4b57d6469cd3f78fdf55\")\n",
    "iv = encrypted[:16]\n",
    "ct = encrypted[16:]\n",
    "\n",
    "for v0 in range(2**4):\n",
    "    for v1 in range(2**4):\n",
    "        if v0 | v1 != 14:\n",
    "            continue\n",
    "\n",
    "        # Set up and solve the differential equation\n",
    "        x = var('x')\n",
    "        y = function('y')(x)\n",
    "        yp = diff(y, x)\n",
    "        ypp = diff(yp, x)\n",
    "        f = desolve(2*ypp - 6*yp + 3*y == 0, y, ics=[0,v0,v1], ivar=x)\n",
    "\n",
    "        fp = derivative(f, x)\n",
    "        assert int(fp(x=0)) == v1 and int(f(x=0)) == v0\n",
    "        \n",
    "        # Test for flag\n",
    "        point = f(x=key)\n",
    "        # point = str(point).replace('^', '**') \n",
    "        # # The challenge is flawed here, to get the flag we need sympy to derive the wrong/incorrect answer as it mistakes sage's exponentiation for xor.\n",
    "\n",
    "        val = sp.N(point, 100)\n",
    "        point_hash = hashlib.sha256(str(val).encode()).digest()[:16]\n",
    "        cipher = AES.new(key=point_hash, iv=iv, mode=AES.MODE_CBC)\n",
    "        msg = cipher.decrypt(ct)\n",
    "        if b'AKA' in msg:\n",
    "            print(msg) # b'AKASEC{d1d_y0u_3nj0y_c41cu1u5_101?}\\r\\r\\r\\r\\r\\r\\r\\r\\r\\r\\r\\r\\r'"
   ]
  }
 ],
 "metadata": {
  "kernelspec": {
   "display_name": "Python 3",
   "language": "python",
   "name": "python3"
  },
  "language_info": {
   "codemirror_mode": {
    "name": "ipython",
    "version": 3
   },
   "file_extension": ".py",
   "mimetype": "text/x-python",
   "name": "python",
   "nbconvert_exporter": "python",
   "pygments_lexer": "ipython3",
   "version": "3.10.12"
  }
 },
 "nbformat": 4,
 "nbformat_minor": 2
}
