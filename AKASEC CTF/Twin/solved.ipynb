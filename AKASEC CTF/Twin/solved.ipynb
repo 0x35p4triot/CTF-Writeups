{
 "cells": [
  {
   "cell_type": "code",
   "execution_count": 6,
   "metadata": {},
   "outputs": [
    {
     "name": "stdout",
     "output_type": "stream",
     "text": [
      "x + 6689395968128828819066313557705633455419752669073029569073623256749797234711829970751951399855264261051626767420739794066717708745265704328741851269702998\n",
      "b'AKASEC{be_on_the_right_side_of_history_free_palestine}'\n"
     ]
    }
   ],
   "source": [
    "from Crypto.Util.number import *\n",
    "\n",
    "pad = bytes_to_long(b'}')\n",
    "\n",
    "def gcd(a,b) :\n",
    "    while b :\n",
    "        a , b = b , a%b \n",
    "    return a.monic()\n",
    "\n",
    "n = 6689395968128828819066313568755352659933786163958960509093076953387786003094796620023245908431378798689402141767913187865481890531897380982752646248371131\n",
    "c1 = 3179086897466915481381271626207192941491642866779832228649829433228467288272857233211003674026630320370606056763863577418383068472502537763155844909495261\n",
    "c2 = 6092690907728422411002652306266695413630015459295863614266882891010434275671526748292477694364341702119123311030726985363936486558916833174742155473021704\n",
    "P.<x> = PolynomialRing(Zmod(n))\n",
    "\n",
    "f1 = (x)^5 - c2\n",
    "f2 = (x*256 + pad)^5 - c1\n",
    "\n",
    "print(gcd(f1,f2))\n",
    "\n",
    "m = long_to_bytes(int(-gcd(f1,f2).coefficients()[0]))\n",
    "print(m + long_to_bytes(pad))"
   ]
  }
 ],
 "metadata": {
  "kernelspec": {
   "display_name": "SageMath 9.5",
   "language": "sage",
   "name": "sagemath"
  },
  "language_info": {
   "codemirror_mode": {
    "name": "ipython",
    "version": 3
   },
   "file_extension": ".py",
   "mimetype": "text/x-python",
   "name": "python",
   "nbconvert_exporter": "python",
   "pygments_lexer": "ipython3",
   "version": "3.10.12"
  }
 },
 "nbformat": 4,
 "nbformat_minor": 2
}
