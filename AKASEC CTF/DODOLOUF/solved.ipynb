{
 "cells": [
  {
   "cell_type": "code",
   "execution_count": 1,
   "metadata": {},
   "outputs": [
    {
     "name": "stdout",
     "output_type": "stream",
     "text": [
      "[x] Opening connection to 20.80.240.190 on port 4447\n",
      "[x] Opening connection to 20.80.240.190 on port 4447: Trying 20.80.240.190\n",
      "[+] Opening connection to 20.80.240.190 on port 4447: Done\n",
      "[*] Switching to interactive mode\n"
     ]
    },
    {
     "name": "stderr",
     "output_type": "stream",
     "text": [
      "Exception in thread Thread-6 (recv_thread):\n",
      "Traceback (most recent call last):\n",
      "  File \"/usr/lib/python3.10/threading.py\", line 1016, in _bootstrap_inner\n",
      "    self.run()\n",
      "  File \"/usr/lib/python3.10/threading.py\", line 953, in run\n",
      "    self._target(*self._args, **self._kwargs)\n",
      "  File \"/home/vanluongkma/.local/lib/python3.10/site-packages/pwnlib/tubes/tube.py\", line 886, in recv_thread\n",
      "    stdout.write(cur)\n",
      "  File \"/usr/lib/python3/dist-packages/ipykernel/iostream.py\", line 511, in write\n",
      "    raise TypeError(\n",
      "TypeError: write() argument must be str, not <class 'bytes'>\n"
     ]
    },
    {
     "name": "stdout",
     "output_type": "stream",
     "text": [
      "[*] Interrupted\n"
     ]
    }
   ],
   "source": [
    "from pwn import *\n",
    "from randcrack import RandCrack\n",
    "from Crypto.Util.number import long_to_bytes\n",
    "\n",
    "rc = RandCrack()\n",
    "p = remote('20.80.240.190', 4447)\n",
    "username = \"0\" * 25 + b'\\xe1\\x94\\x89'.decode()\n",
    "p.sendlinethen(b'IV used during this session:  ', username.encode())\n",
    "iv = bytearray.fromhex(p.recvline(keepends=False).decode())\n",
    "for _ in range(624 // 4):\n",
    "    iv[-1] ^= 2 ^ (48 + 1)\n",
    "    iv[-2] ^= ord('C') ^ 0x8c\n",
    "    p.recvuntil(b'Your new token is :  ')\n",
    "    enc = bytearray.fromhex(p.recvline(keepends=False).decode())\n",
    "    enc[79 - 16] ^= 1\n",
    "    p.sendline(b'1')\n",
    "    p.sendlinethen(b'encrypt is ', (iv + enc).hex().encode())\n",
    "    randbits128 = bytes.fromhex(p.recvline()[:-2].decode())\n",
    "    big = randbits128[::-1]\n",
    "    for i in range(4):\n",
    "        randbits32 = int.from_bytes(big[i * 4: i * 4 + 4], byteorder='little')\n",
    "        rc.submit(randbits32)\n",
    "rc.predict_getrandbits(128)\n",
    "p.sendline(b'2')\n",
    "p.sendline(long_to_bytes(rc.predict_getrandbits(128)).hex().encode())\n",
    "p.interactive()"
   ]
  },
  {
   "cell_type": "code",
   "execution_count": null,
   "metadata": {},
   "outputs": [],
   "source": [
    "from pwn import *\n",
    "from randcrack import RandCrack\n",
    "from Crypto.Util.number import long_to_bytes\n",
    "\n",
    "rc = RandCrack()\n",
    "p = remote('20.80.240.190', 4447, level = 'debug')\n",
    "username = \"0\" * 25 + b'\\xe1\\x94\\x89'.decode()\n",
    "p.sendlinethen(b'IV used during this session:  ', username.encode())\n",
    "iv = bytearray.fromhex(p.recvline(keepends=False).decode())\n",
    "for _ in range(624 // 4):\n",
    "    iv[-1] ^= 2 ^ (48 + 1)\n",
    "    iv[-2] ^= ord('C') ^ 0x8c\n",
    "    p.recvuntil(b'Your new token is :  ')\n",
    "    enc = bytearray.fromhex(p.recvline(keepends=False).decode())\n",
    "    enc[79 - 16] ^= 1\n",
    "    p.sendline(b'1')\n",
    "    p.sendlinethen(b'encrypt is ', (iv + enc).hex().encode())\n",
    "    randbits128 = bytes.fromhex(p.recvline()[:-2].decode())\n",
    "    big = randbits128[::-1]\n",
    "    for i in range(4):\n",
    "        randbits32 = int.from_bytes(big[i * 4: i * 4 + 4], byteorder='little')\n",
    "        rc.submit(randbits32)\n",
    "rc.predict_getrandbits(128)\n",
    "p.sendline(b'2')\n",
    "p.sendline(long_to_bytes(rc.predict_getrandbits(128)).hex().encode())\n",
    "p.interactive()"
   ]
  }
 ],
 "metadata": {
  "kernelspec": {
   "display_name": "Python 3",
   "language": "python",
   "name": "python3"
  },
  "language_info": {
   "codemirror_mode": {
    "name": "ipython",
    "version": 3
   },
   "file_extension": ".py",
   "mimetype": "text/x-python",
   "name": "python",
   "nbconvert_exporter": "python",
   "pygments_lexer": "ipython3",
   "version": "3.10.12"
  }
 },
 "nbformat": 4,
 "nbformat_minor": 2
}
