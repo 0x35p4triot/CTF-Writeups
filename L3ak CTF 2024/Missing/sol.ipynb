{
 "cells": [
  {
   "cell_type": "code",
   "execution_count": 10,
   "metadata": {},
   "outputs": [
    {
     "ename": "ValueError",
     "evalue": "MerkleProofInvalidMultiproof",
     "output_type": "error",
     "traceback": [
      "\u001b[0;31m---------------------------------------------------------------------------\u001b[0m",
      "\u001b[0;31mValueError\u001b[0m                                Traceback (most recent call last)",
      "\u001b[0;32m/tmp/ipykernel_12584/2977230973.py\u001b[0m in \u001b[0;36m<module>\u001b[0;34m\u001b[0m\n\u001b[1;32m     68\u001b[0m ]  # Thay thế bằng danh sách các leaves\n\u001b[1;32m     69\u001b[0m \u001b[0;34m\u001b[0m\u001b[0m\n\u001b[0;32m---> 70\u001b[0;31m \u001b[0mresult\u001b[0m \u001b[0;34m=\u001b[0m \u001b[0mflag_proof\u001b[0m\u001b[0;34m.\u001b[0m\u001b[0mmulti_proof_verify\u001b[0m\u001b[0;34m(\u001b[0m\u001b[0mproof\u001b[0m\u001b[0;34m,\u001b[0m \u001b[0mproof_flags\u001b[0m\u001b[0;34m,\u001b[0m \u001b[0mleaves\u001b[0m\u001b[0;34m)\u001b[0m\u001b[0;34m\u001b[0m\u001b[0;34m\u001b[0m\u001b[0m\n\u001b[0m\u001b[1;32m     71\u001b[0m \u001b[0mprint\u001b[0m\u001b[0;34m(\u001b[0m\u001b[0;34m\"Result:\"\u001b[0m\u001b[0;34m,\u001b[0m \u001b[0mresult\u001b[0m\u001b[0;34m)\u001b[0m\u001b[0;34m\u001b[0m\u001b[0;34m\u001b[0m\u001b[0m\n",
      "\u001b[0;32m/tmp/ipykernel_12584/2977230973.py\u001b[0m in \u001b[0;36mmulti_proof_verify\u001b[0;34m(self, proof, proof_flags, leaves)\u001b[0m\n\u001b[1;32m     13\u001b[0m \u001b[0;34m\u001b[0m\u001b[0m\n\u001b[1;32m     14\u001b[0m     \u001b[0;32mdef\u001b[0m \u001b[0mmulti_proof_verify\u001b[0m\u001b[0;34m(\u001b[0m\u001b[0mself\u001b[0m\u001b[0;34m,\u001b[0m \u001b[0mproof\u001b[0m\u001b[0;34m:\u001b[0m \u001b[0mList\u001b[0m\u001b[0;34m[\u001b[0m\u001b[0mbytes\u001b[0m\u001b[0;34m]\u001b[0m\u001b[0;34m,\u001b[0m \u001b[0mproof_flags\u001b[0m\u001b[0;34m:\u001b[0m \u001b[0mList\u001b[0m\u001b[0;34m[\u001b[0m\u001b[0mbool\u001b[0m\u001b[0;34m]\u001b[0m\u001b[0;34m,\u001b[0m \u001b[0mleaves\u001b[0m\u001b[0;34m:\u001b[0m \u001b[0mList\u001b[0m\u001b[0;34m[\u001b[0m\u001b[0mbytes\u001b[0m\u001b[0;34m]\u001b[0m\u001b[0;34m)\u001b[0m \u001b[0;34m->\u001b[0m \u001b[0mbool\u001b[0m\u001b[0;34m:\u001b[0m\u001b[0;34m\u001b[0m\u001b[0;34m\u001b[0m\u001b[0m\n\u001b[0;32m---> 15\u001b[0;31m         \u001b[0;32mreturn\u001b[0m \u001b[0mself\u001b[0m\u001b[0;34m.\u001b[0m\u001b[0mprocess_multi_proof\u001b[0m\u001b[0;34m(\u001b[0m\u001b[0mproof\u001b[0m\u001b[0;34m,\u001b[0m \u001b[0mproof_flags\u001b[0m\u001b[0;34m,\u001b[0m \u001b[0mleaves\u001b[0m\u001b[0;34m)\u001b[0m \u001b[0;34m==\u001b[0m \u001b[0mself\u001b[0m\u001b[0;34m.\u001b[0m\u001b[0mroot\u001b[0m\u001b[0;34m\u001b[0m\u001b[0;34m\u001b[0m\u001b[0m\n\u001b[0m\u001b[1;32m     16\u001b[0m \u001b[0;34m\u001b[0m\u001b[0m\n\u001b[1;32m     17\u001b[0m     \u001b[0;32mdef\u001b[0m \u001b[0mprocess_multi_proof\u001b[0m\u001b[0;34m(\u001b[0m\u001b[0mself\u001b[0m\u001b[0;34m,\u001b[0m \u001b[0mproof\u001b[0m\u001b[0;34m:\u001b[0m \u001b[0mList\u001b[0m\u001b[0;34m[\u001b[0m\u001b[0mbytes\u001b[0m\u001b[0;34m]\u001b[0m\u001b[0;34m,\u001b[0m \u001b[0mproof_flags\u001b[0m\u001b[0;34m:\u001b[0m \u001b[0mList\u001b[0m\u001b[0;34m[\u001b[0m\u001b[0mbool\u001b[0m\u001b[0;34m]\u001b[0m\u001b[0;34m,\u001b[0m \u001b[0mleaves\u001b[0m\u001b[0;34m:\u001b[0m \u001b[0mList\u001b[0m\u001b[0;34m[\u001b[0m\u001b[0mbytes\u001b[0m\u001b[0;34m]\u001b[0m\u001b[0;34m)\u001b[0m \u001b[0;34m->\u001b[0m \u001b[0mbytes\u001b[0m\u001b[0;34m:\u001b[0m\u001b[0;34m\u001b[0m\u001b[0;34m\u001b[0m\u001b[0m\n",
      "\u001b[0;32m/tmp/ipykernel_12584/2977230973.py\u001b[0m in \u001b[0;36mprocess_multi_proof\u001b[0;34m(self, proof, proof_flags, leaves)\u001b[0m\n\u001b[1;32m     21\u001b[0m \u001b[0;34m\u001b[0m\u001b[0m\n\u001b[1;32m     22\u001b[0m         \u001b[0;32mif\u001b[0m \u001b[0mleaves_len\u001b[0m \u001b[0;34m+\u001b[0m \u001b[0mproof_len\u001b[0m \u001b[0;34m!=\u001b[0m \u001b[0mtotal_hashes\u001b[0m \u001b[0;34m+\u001b[0m \u001b[0;36m1\u001b[0m\u001b[0;34m:\u001b[0m\u001b[0;34m\u001b[0m\u001b[0;34m\u001b[0m\u001b[0m\n\u001b[0;32m---> 23\u001b[0;31m             \u001b[0;32mraise\u001b[0m \u001b[0mValueError\u001b[0m\u001b[0;34m(\u001b[0m\u001b[0;34m\"MerkleProofInvalidMultiproof\"\u001b[0m\u001b[0;34m)\u001b[0m\u001b[0;34m\u001b[0m\u001b[0;34m\u001b[0m\u001b[0m\n\u001b[0m\u001b[1;32m     24\u001b[0m \u001b[0;34m\u001b[0m\u001b[0m\n\u001b[1;32m     25\u001b[0m         \u001b[0mhashes\u001b[0m \u001b[0;34m=\u001b[0m \u001b[0;34m[\u001b[0m\u001b[0;34mb''\u001b[0m\u001b[0;34m]\u001b[0m \u001b[0;34m*\u001b[0m \u001b[0mtotal_hashes\u001b[0m\u001b[0;34m\u001b[0m\u001b[0;34m\u001b[0m\u001b[0m\n",
      "\u001b[0;31mValueError\u001b[0m: MerkleProofInvalidMultiproof"
     ]
    }
   ],
   "source": [
    "import hashlib\n",
    "from typing import List\n",
    "\n",
    "class FlagProof:\n",
    "    def __init__(self, root: bytes):\n",
    "        self.root = root\n",
    "\n",
    "    def keccak256(self, data: bytes) -> bytes:\n",
    "        return hashlib.sha3_256(data).digest()\n",
    "\n",
    "    def commutative_keccak256(self, a: bytes, b: bytes) -> bytes:\n",
    "        return self.keccak256(a + b) if a < b else self.keccak256(b + a)\n",
    "\n",
    "    def multi_proof_verify(self, proof: List[bytes], proof_flags: List[bool], leaves: List[bytes]) -> bool:\n",
    "        return self.process_multi_proof(proof, proof_flags, leaves) == self.root\n",
    "\n",
    "    def process_multi_proof(self, proof: List[bytes], proof_flags: List[bool], leaves: List[bytes]) -> bytes:\n",
    "        leaves_len = len(leaves)\n",
    "        proof_len = len(proof)\n",
    "        total_hashes = len(proof_flags)\n",
    "\n",
    "        if leaves_len + proof_len != total_hashes + 1:\n",
    "            raise ValueError(\"MerkleProofInvalidMultiproof\")\n",
    "\n",
    "        hashes = [b''] * total_hashes\n",
    "        leaf_pos = 0\n",
    "        hash_pos = 0\n",
    "        proof_pos = 0\n",
    "\n",
    "        for i in range(total_hashes):\n",
    "            a = leaves[leaf_pos] if leaf_pos < leaves_len else hashes[hash_pos]\n",
    "            leaf_pos += 1 if leaf_pos < leaves_len else 0\n",
    "            hash_pos += 1 if leaf_pos >= leaves_len else 0\n",
    "\n",
    "            if proof_flags[i]:\n",
    "                b = leaves[leaf_pos] if leaf_pos < leaves_len else hashes[hash_pos]\n",
    "                leaf_pos += 1 if leaf_pos < leaves_len else 0\n",
    "                hash_pos += 1 if leaf_pos >= leaves_len else 0\n",
    "            else:\n",
    "                b = proof[proof_pos]\n",
    "                proof_pos += 1\n",
    "\n",
    "            hashes[i] = self.commutative_keccak256(a, b)\n",
    "\n",
    "        if total_hashes > 0:\n",
    "            if proof_pos != proof_len:\n",
    "                raise ValueError(\"MerkleProofInvalidMultiproof\")\n",
    "            return hashes[total_hashes - 1]\n",
    "        elif leaves_len > 0:\n",
    "            return leaves[0]\n",
    "        else:\n",
    "            return proof[0]\n",
    "\n",
    "# Ví dụ sử dụng\n",
    "root = bytes.fromhex('a3c3e2a5d4c2f9b2d5a3e2a5d4c2f9b2d5a3e2a5d4c2f9b2d5a3e2a5d4c2f9b2')  # Thay thế bằng giá trị gốc Merkle Tree\n",
    "flag_proof = FlagProof(root)\n",
    "\n",
    "proof = [\n",
    "    bytes.fromhex('b4c3e2a5d4c2f9b2d5a3e2a5d4c2f9b2d5a3e2a5d4c2f9b2d5a3e2a5d4c2f9b2'),\n",
    "    bytes.fromhex('c4c3e2a5d4c2f9b2d5a3e2a5d4c2f9b2d5a3e2a5d4c2f9b2d5a3e2a5d4c2f9b2')\n",
    "]  # Thay thế bằng danh sách các proof\n",
    "\n",
    "proof_flags = [True, False]  # Thay thế bằng các cờ proof\n",
    "\n",
    "leaves = [\n",
    "    bytes.fromhex('d4c3e2a5d4c2f9b2d5a3e2a5d4c2f9b2d5a3e2a5d4c2f9b2d5a3e2a5d4c2f9b2'),\n",
    "    bytes.fromhex('e4c3e2a5d4c2f9b2d5a3e2a5d4c2f9b2d5a3e2a5d4c2f9b2d5a3e2a5d4c2f9b2')\n",
    "]  # Thay thế bằng danh sách các leaves\n",
    "\n",
    "result = flag_proof.multi_proof_verify(proof, proof_flags, leaves)\n",
    "print(\"Result:\", result)"
   ]
  }
 ],
 "metadata": {
  "kernelspec": {
   "display_name": "Python 3",
   "language": "python",
   "name": "python3"
  },
  "language_info": {
   "codemirror_mode": {
    "name": "ipython",
    "version": 3
   },
   "file_extension": ".py",
   "mimetype": "text/x-python",
   "name": "python",
   "nbconvert_exporter": "python",
   "pygments_lexer": "ipython3",
   "version": "3.10.12"
  }
 },
 "nbformat": 4,
 "nbformat_minor": 2
}
