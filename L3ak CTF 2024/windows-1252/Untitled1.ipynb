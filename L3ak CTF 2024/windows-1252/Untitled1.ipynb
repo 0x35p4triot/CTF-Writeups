{
 "cells": [
  {
   "cell_type": "code",
   "execution_count": 6,
   "id": "a21b7e49-c230-4a53-b74a-316b9c8827ae",
   "metadata": {},
   "outputs": [],
   "source": [
    "from huggingface_hub import from_pretrained_keras\n",
    "from skimage.io import imread\n",
    "import numpy as np\n",
    "import matplotlib.pyplot as plt\n",
    "import os"
   ]
  },
  {
   "cell_type": "code",
   "execution_count": 16,
   "id": "b97533f4-0e34-4723-b46b-a15472dafd21",
   "metadata": {},
   "outputs": [],
   "source": [
    "import keras_ocr"
   ]
  },
  {
   "cell_type": "code",
   "execution_count": 25,
   "id": "944e7ab0-db57-4135-a776-93c77b87c615",
   "metadata": {},
   "outputs": [],
   "source": [
    "image = imread('test.png', as_gray=True)\n",
    "image = np.round((image * 255))\n",
    "image[image < 20] = 255\n",
    "image2 = 255 - image\n",
    "image2 = image2 / 255."
   ]
  },
  {
   "cell_type": "code",
   "execution_count": 26,
   "id": "ab575015-d723-4463-8016-2910a01fbd10",
   "metadata": {},
   "outputs": [
    {
     "data": {
      "text/plain": [
       "<matplotlib.image.AxesImage at 0x1ad5c9924d0>"
      ]
     },
     "execution_count": 26,
     "metadata": {},
     "output_type": "execute_result"
    },
    {
     "data": {
      "image/png": "[encoded data removed]",
      "text/plain": [
       "<Figure size 640x480 with 1 Axes>"
      ]
     },
     "metadata": {},
     "output_type": "display_data"
    }
   ],
   "source": [
    "plt.imshow(image2, cmap='gray')"
   ]
  },
  {
   "cell_type": "code",
   "execution_count": 41,
   "id": "13d1ae18-b5df-4abc-b15f-bcda83c60981",
   "metadata": {},
   "outputs": [
    {
     "data": {
      "text/plain": [
       "(3, 25, 25)"
      ]
     },
     "execution_count": 41,
     "metadata": {},
     "output_type": "execute_result"
    }
   ],
   "source": [
    "I = image2[:25, :25]\n",
    "I = np.array([I, I, I])\n",
    "I.shape"
   ]
  },
  {
   "cell_type": "code",
   "execution_count": 42,
   "id": "14c5ec64-7dc5-442b-9dbf-24df9929ca10",
   "metadata": {},
   "outputs": [
    {
     "name": "stdout",
     "output_type": "stream",
     "text": [
      "Looking for C:\\Users\\spider\\.keras-ocr\\craft_mlt_25k.h5\n",
      "Looking for C:\\Users\\spider\\.keras-ocr\\crnn_kurapan.h5\n"
     ]
    }
   ],
   "source": [
    "pipeline = keras_ocr.pipeline.Pipeline()\n",
    "I = I / 255."
   ]
  },
  {
   "cell_type": "code",
   "execution_count": 44,
   "id": "1e26514f-bfeb-47ad-a9bf-3d4aa6242035",
   "metadata": {},
   "outputs": [
    {
     "ename": "ValueError",
     "evalue": "operands could not be broadcast together with shapes (50,50) (3,) (50,50) ",
     "output_type": "error",
     "traceback": [
      "\u001b[1;31m---------------------------------------------------------------------------\u001b[0m",
      "\u001b[1;31mValueError\u001b[0m                                Traceback (most recent call last)",
      "Cell \u001b[1;32mIn[44], line 1\u001b[0m\n\u001b[1;32m----> 1\u001b[0m predictions \u001b[38;5;241m=\u001b[39m \u001b[43mpipeline\u001b[49m\u001b[38;5;241;43m.\u001b[39;49m\u001b[43mrecognize\u001b[49m\u001b[43m(\u001b[49m\u001b[43mI\u001b[49m\u001b[43m)\u001b[49m\n",
      "File \u001b[1;32mD:\\Tools\\Scoop\\apps\\python311\\current\\Lib\\site-packages\\keras_ocr\\pipeline.py:62\u001b[0m, in \u001b[0;36mPipeline.recognize\u001b[1;34m(self, images, detection_kwargs, recognition_kwargs)\u001b[0m\n\u001b[0;32m     60\u001b[0m \u001b[38;5;28;01mif\u001b[39;00m recognition_kwargs \u001b[38;5;129;01mis\u001b[39;00m \u001b[38;5;28;01mNone\u001b[39;00m:\n\u001b[0;32m     61\u001b[0m     recognition_kwargs \u001b[38;5;241m=\u001b[39m {}\n\u001b[1;32m---> 62\u001b[0m box_groups \u001b[38;5;241m=\u001b[39m \u001b[38;5;28;43mself\u001b[39;49m\u001b[38;5;241;43m.\u001b[39;49m\u001b[43mdetector\u001b[49m\u001b[38;5;241;43m.\u001b[39;49m\u001b[43mdetect\u001b[49m\u001b[43m(\u001b[49m\u001b[43mimages\u001b[49m\u001b[38;5;241;43m=\u001b[39;49m\u001b[43mimages\u001b[49m\u001b[43m,\u001b[49m\u001b[43m \u001b[49m\u001b[38;5;241;43m*\u001b[39;49m\u001b[38;5;241;43m*\u001b[39;49m\u001b[43mdetection_kwargs\u001b[49m\u001b[43m)\u001b[49m\n\u001b[0;32m     63\u001b[0m prediction_groups \u001b[38;5;241m=\u001b[39m \u001b[38;5;28mself\u001b[39m\u001b[38;5;241m.\u001b[39mrecognizer\u001b[38;5;241m.\u001b[39mrecognize_from_boxes(\n\u001b[0;32m     64\u001b[0m     images\u001b[38;5;241m=\u001b[39mimages, box_groups\u001b[38;5;241m=\u001b[39mbox_groups, \u001b[38;5;241m*\u001b[39m\u001b[38;5;241m*\u001b[39mrecognition_kwargs\n\u001b[0;32m     65\u001b[0m )\n\u001b[0;32m     66\u001b[0m box_groups \u001b[38;5;241m=\u001b[39m [\n\u001b[0;32m     67\u001b[0m     tools\u001b[38;5;241m.\u001b[39madjust_boxes(boxes\u001b[38;5;241m=\u001b[39mboxes, boxes_format\u001b[38;5;241m=\u001b[39m\u001b[38;5;124m\"\u001b[39m\u001b[38;5;124mboxes\u001b[39m\u001b[38;5;124m\"\u001b[39m, scale\u001b[38;5;241m=\u001b[39m\u001b[38;5;241m1\u001b[39m \u001b[38;5;241m/\u001b[39m scale)\n\u001b[0;32m     68\u001b[0m     \u001b[38;5;28;01mif\u001b[39;00m scale \u001b[38;5;241m!=\u001b[39m \u001b[38;5;241m1\u001b[39m\n\u001b[0;32m     69\u001b[0m     \u001b[38;5;28;01melse\u001b[39;00m boxes\n\u001b[0;32m     70\u001b[0m     \u001b[38;5;28;01mfor\u001b[39;00m boxes, scale \u001b[38;5;129;01min\u001b[39;00m \u001b[38;5;28mzip\u001b[39m(box_groups, scales)\n\u001b[0;32m     71\u001b[0m ]\n",
      "File \u001b[1;32mD:\\Tools\\Scoop\\apps\\python311\\current\\Lib\\site-packages\\keras_ocr\\detection.py:777\u001b[0m, in \u001b[0;36mDetector.detect\u001b[1;34m(self, images, detection_threshold, text_threshold, link_threshold, size_threshold, **kwargs)\u001b[0m\n\u001b[0;32m    745\u001b[0m \u001b[38;5;28;01mdef\u001b[39;00m \u001b[38;5;21mdetect\u001b[39m(\n\u001b[0;32m    746\u001b[0m     \u001b[38;5;28mself\u001b[39m,\n\u001b[0;32m    747\u001b[0m     images: typing\u001b[38;5;241m.\u001b[39mList[typing\u001b[38;5;241m.\u001b[39mUnion[np\u001b[38;5;241m.\u001b[39mndarray, \u001b[38;5;28mstr\u001b[39m]],\n\u001b[1;32m   (...)\u001b[0m\n\u001b[0;32m    752\u001b[0m     \u001b[38;5;241m*\u001b[39m\u001b[38;5;241m*\u001b[39mkwargs,\n\u001b[0;32m    753\u001b[0m ):\n\u001b[0;32m    754\u001b[0m \u001b[38;5;250m    \u001b[39m\u001b[38;5;124;03m\"\"\"Recognize the text in a set of images.\u001b[39;00m\n\u001b[0;32m    755\u001b[0m \n\u001b[0;32m    756\u001b[0m \u001b[38;5;124;03m    Args:\u001b[39;00m\n\u001b[1;32m   (...)\u001b[0m\n\u001b[0;32m    775\u001b[0m \u001b[38;5;124;03m        size_threshold: The minimum area for a word.\u001b[39;00m\n\u001b[0;32m    776\u001b[0m \u001b[38;5;124;03m    \"\"\"\u001b[39;00m\n\u001b[1;32m--> 777\u001b[0m     images \u001b[38;5;241m=\u001b[39m \u001b[43m[\u001b[49m\u001b[43mcompute_input\u001b[49m\u001b[43m(\u001b[49m\u001b[43mtools\u001b[49m\u001b[38;5;241;43m.\u001b[39;49m\u001b[43mread\u001b[49m\u001b[43m(\u001b[49m\u001b[43mimage\u001b[49m\u001b[43m)\u001b[49m\u001b[43m)\u001b[49m\u001b[43m \u001b[49m\u001b[38;5;28;43;01mfor\u001b[39;49;00m\u001b[43m \u001b[49m\u001b[43mimage\u001b[49m\u001b[43m \u001b[49m\u001b[38;5;129;43;01min\u001b[39;49;00m\u001b[43m \u001b[49m\u001b[43mimages\u001b[49m\u001b[43m]\u001b[49m\n\u001b[0;32m    778\u001b[0m     boxes \u001b[38;5;241m=\u001b[39m getBoxes(\n\u001b[0;32m    779\u001b[0m         \u001b[38;5;28mself\u001b[39m\u001b[38;5;241m.\u001b[39mmodel\u001b[38;5;241m.\u001b[39mpredict(np\u001b[38;5;241m.\u001b[39marray(images), \u001b[38;5;241m*\u001b[39m\u001b[38;5;241m*\u001b[39mkwargs),\n\u001b[0;32m    780\u001b[0m         detection_threshold\u001b[38;5;241m=\u001b[39mdetection_threshold,\n\u001b[1;32m   (...)\u001b[0m\n\u001b[0;32m    783\u001b[0m         size_threshold\u001b[38;5;241m=\u001b[39msize_threshold,\n\u001b[0;32m    784\u001b[0m     )\n\u001b[0;32m    785\u001b[0m     \u001b[38;5;28;01mreturn\u001b[39;00m boxes\n",
      "File \u001b[1;32mD:\\Tools\\Scoop\\apps\\python311\\current\\Lib\\site-packages\\keras_ocr\\detection.py:777\u001b[0m, in \u001b[0;36m<listcomp>\u001b[1;34m(.0)\u001b[0m\n\u001b[0;32m    745\u001b[0m \u001b[38;5;28;01mdef\u001b[39;00m \u001b[38;5;21mdetect\u001b[39m(\n\u001b[0;32m    746\u001b[0m     \u001b[38;5;28mself\u001b[39m,\n\u001b[0;32m    747\u001b[0m     images: typing\u001b[38;5;241m.\u001b[39mList[typing\u001b[38;5;241m.\u001b[39mUnion[np\u001b[38;5;241m.\u001b[39mndarray, \u001b[38;5;28mstr\u001b[39m]],\n\u001b[1;32m   (...)\u001b[0m\n\u001b[0;32m    752\u001b[0m     \u001b[38;5;241m*\u001b[39m\u001b[38;5;241m*\u001b[39mkwargs,\n\u001b[0;32m    753\u001b[0m ):\n\u001b[0;32m    754\u001b[0m \u001b[38;5;250m    \u001b[39m\u001b[38;5;124;03m\"\"\"Recognize the text in a set of images.\u001b[39;00m\n\u001b[0;32m    755\u001b[0m \n\u001b[0;32m    756\u001b[0m \u001b[38;5;124;03m    Args:\u001b[39;00m\n\u001b[1;32m   (...)\u001b[0m\n\u001b[0;32m    775\u001b[0m \u001b[38;5;124;03m        size_threshold: The minimum area for a word.\u001b[39;00m\n\u001b[0;32m    776\u001b[0m \u001b[38;5;124;03m    \"\"\"\u001b[39;00m\n\u001b[1;32m--> 777\u001b[0m     images \u001b[38;5;241m=\u001b[39m [\u001b[43mcompute_input\u001b[49m\u001b[43m(\u001b[49m\u001b[43mtools\u001b[49m\u001b[38;5;241;43m.\u001b[39;49m\u001b[43mread\u001b[49m\u001b[43m(\u001b[49m\u001b[43mimage\u001b[49m\u001b[43m)\u001b[49m\u001b[43m)\u001b[49m \u001b[38;5;28;01mfor\u001b[39;00m image \u001b[38;5;129;01min\u001b[39;00m images]\n\u001b[0;32m    778\u001b[0m     boxes \u001b[38;5;241m=\u001b[39m getBoxes(\n\u001b[0;32m    779\u001b[0m         \u001b[38;5;28mself\u001b[39m\u001b[38;5;241m.\u001b[39mmodel\u001b[38;5;241m.\u001b[39mpredict(np\u001b[38;5;241m.\u001b[39marray(images), \u001b[38;5;241m*\u001b[39m\u001b[38;5;241m*\u001b[39mkwargs),\n\u001b[0;32m    780\u001b[0m         detection_threshold\u001b[38;5;241m=\u001b[39mdetection_threshold,\n\u001b[1;32m   (...)\u001b[0m\n\u001b[0;32m    783\u001b[0m         size_threshold\u001b[38;5;241m=\u001b[39msize_threshold,\n\u001b[0;32m    784\u001b[0m     )\n\u001b[0;32m    785\u001b[0m     \u001b[38;5;28;01mreturn\u001b[39;00m boxes\n",
      "File \u001b[1;32mD:\\Tools\\Scoop\\apps\\python311\\current\\Lib\\site-packages\\keras_ocr\\detection.py:40\u001b[0m, in \u001b[0;36mcompute_input\u001b[1;34m(image)\u001b[0m\n\u001b[0;32m     37\u001b[0m mean \u001b[38;5;241m=\u001b[39m np\u001b[38;5;241m.\u001b[39marray([\u001b[38;5;241m0.485\u001b[39m, \u001b[38;5;241m0.456\u001b[39m, \u001b[38;5;241m0.406\u001b[39m])\n\u001b[0;32m     38\u001b[0m variance \u001b[38;5;241m=\u001b[39m np\u001b[38;5;241m.\u001b[39marray([\u001b[38;5;241m0.229\u001b[39m, \u001b[38;5;241m0.224\u001b[39m, \u001b[38;5;241m0.225\u001b[39m])\n\u001b[1;32m---> 40\u001b[0m \u001b[43mimage\u001b[49m\u001b[43m \u001b[49m\u001b[38;5;241;43m-\u001b[39;49m\u001b[38;5;241;43m=\u001b[39;49m\u001b[43m \u001b[49m\u001b[43mmean\u001b[49m\u001b[43m \u001b[49m\u001b[38;5;241;43m*\u001b[39;49m\u001b[43m \u001b[49m\u001b[38;5;241;43m255\u001b[39;49m\n\u001b[0;32m     41\u001b[0m image \u001b[38;5;241m/\u001b[39m\u001b[38;5;241m=\u001b[39m variance \u001b[38;5;241m*\u001b[39m \u001b[38;5;241m255\u001b[39m\n\u001b[0;32m     42\u001b[0m \u001b[38;5;28;01mreturn\u001b[39;00m image\n",
      "\u001b[1;31mValueError\u001b[0m: operands could not be broadcast together with shapes (50,50) (3,) (50,50) "
     ]
    }
   ],
   "source": [
    "predictions = pipeline.recognize(I)"
   ]
  },
  {
   "cell_type": "code",
   "execution_count": null,
   "id": "c5be7f5c-a5f9-4a58-b0aa-240e3827beb7",
   "metadata": {},
   "outputs": [],
   "source": []
  }
 ],
 "metadata": {
  "kernelspec": {
   "display_name": "Python 3 (ipykernel)",
   "language": "python",
   "name": "python3"
  },
  "language_info": {
   "codemirror_mode": {
    "name": "ipython",
    "version": 3
   },
   "file_extension": ".py",
   "mimetype": "text/x-python",
   "name": "python",
   "nbconvert_exporter": "python",
   "pygments_lexer": "ipython3",
   "version": "3.11.6"
  }
 },
 "nbformat": 4,
 "nbformat_minor": 5
}
