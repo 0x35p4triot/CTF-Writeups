{
 "cells": [
  {
   "cell_type": "code",
   "execution_count": 73,
   "metadata": {
    "vscode": {
     "languageId": "python"
    }
   },
   "outputs": [
    {
     "name": "stdout",
     "output_type": "stream",
     "text": [
      "115792089210356248762697446949407573529996955224135760342422259061068512044369\n",
      "Q==Q' True\n",
      "(48439561293906451759052585252797914202762949526041747995844080717082404635286, 36134250956749795798585127919587881956611106672985015071877198253568414405109)\n",
      "(48439561293906451759052585252797914202762949526041747995844080717082404635286, 36134250956749795798585127919587881956611106672985015071877198253568414405109)\n",
      "publuc = (26917031336335630350805290904899574903292792639991422008541635695952008983857 : 77517656757371332161127542375026653060402730453393832579023072993157413624106 : 1)\n"
     ]
    },
    {
     "ename": "ArithmeticError",
     "evalue": "inverse does not exist",
     "output_type": "error",
     "traceback": [
      "\u001b[0;31m---------------------------------------------------------------------------\u001b[0m",
      "\u001b[0;31mArithmeticError\u001b[0m                           Traceback (most recent call last)",
      "\u001b[0;32m/tmp/ipykernel_62537/4198709658.py\u001b[0m in \u001b[0;36m<module>\u001b[0;34m\u001b[0m\n\u001b[1;32m     38\u001b[0m \u001b[0mprint\u001b[0m\u001b[0;34m(\u001b[0m\u001b[0;34mf\"{publuc = }\"\u001b[0m\u001b[0;34m)\u001b[0m\u001b[0;34m\u001b[0m\u001b[0;34m\u001b[0m\u001b[0m\n\u001b[1;32m     39\u001b[0m \u001b[0mkprime\u001b[0m \u001b[0;34m=\u001b[0m \u001b[0mInteger\u001b[0m\u001b[0;34m(\u001b[0m\u001b[0;36m0\u001b[0m\u001b[0;34m)\u001b[0m\u001b[0;34m\u001b[0m\u001b[0;34m\u001b[0m\u001b[0m\n\u001b[0;32m---> 40\u001b[0;31m \u001b[0mkprimeinv\u001b[0m \u001b[0;34m=\u001b[0m \u001b[0mkprime\u001b[0m\u001b[0;34m.\u001b[0m\u001b[0minverse_of_unit\u001b[0m\u001b[0;34m(\u001b[0m\u001b[0;34m)\u001b[0m\u001b[0;34m\u001b[0m\u001b[0;34m\u001b[0m\u001b[0m\n\u001b[0m\u001b[1;32m     41\u001b[0m \u001b[0mGprime\u001b[0m \u001b[0;34m=\u001b[0m \u001b[0mZZ\u001b[0m\u001b[0;34m(\u001b[0m\u001b[0mkprimeinv\u001b[0m\u001b[0;34m)\u001b[0m \u001b[0;34m*\u001b[0m \u001b[0mG\u001b[0m\u001b[0;34m\u001b[0m\u001b[0;34m\u001b[0m\u001b[0m\n\u001b[1;32m     42\u001b[0m \u001b[0;34m\u001b[0m\u001b[0m\n",
      "\u001b[0;32m/usr/lib/python3/dist-packages/sage/rings/integer.pyx\u001b[0m in \u001b[0;36msage.rings.integer.Integer.inverse_of_unit (build/cythonized/sage/rings/integer.c:41337)\u001b[0;34m()\u001b[0m\n\u001b[1;32m   6631\u001b[0m             \u001b[0;32mreturn\u001b[0m \u001b[0mself\u001b[0m\u001b[0;34m\u001b[0m\u001b[0;34m\u001b[0m\u001b[0m\n\u001b[1;32m   6632\u001b[0m         \u001b[0;32melse\u001b[0m\u001b[0;34m:\u001b[0m\u001b[0;34m\u001b[0m\u001b[0;34m\u001b[0m\u001b[0m\n\u001b[0;32m-> 6633\u001b[0;31m             \u001b[0;32mraise\u001b[0m \u001b[0mArithmeticError\u001b[0m\u001b[0;34m(\u001b[0m\u001b[0;34m\"inverse does not exist\"\u001b[0m\u001b[0;34m)\u001b[0m\u001b[0;34m\u001b[0m\u001b[0;34m\u001b[0m\u001b[0m\n\u001b[0m\u001b[1;32m   6634\u001b[0m \u001b[0;34m\u001b[0m\u001b[0m\n\u001b[1;32m   6635\u001b[0m     \u001b[0;32mdef\u001b[0m \u001b[0minverse_mod\u001b[0m\u001b[0;34m(\u001b[0m\u001b[0mself\u001b[0m\u001b[0;34m,\u001b[0m \u001b[0mn\u001b[0m\u001b[0;34m)\u001b[0m\u001b[0;34m:\u001b[0m\u001b[0;34m\u001b[0m\u001b[0;34m\u001b[0m\u001b[0m\n",
      "\u001b[0;31mArithmeticError\u001b[0m: inverse does not exist"
     ]
    }
   ],
   "source": [
    "#!/usr/bin/env sage\n",
    "nistp256r1_order = 0xFFFFFFFF00000000FFFFFFFFFFFFFFFFBCE6FAADA7179E84F3B9CAC2FC632551\n",
    "nistp256r1_modulus = 2**224 * (2**32 - 1) + 2**192 + 2**96 - 1\n",
    "nistp256r1_a = 0xFFFFFFFF00000001000000000000000000000000FFFFFFFFFFFFFFFFFFFFFFFC\n",
    "nistp256r1_b = 0x5AC635D8AA3A93E7B3EBBD55769886BC651D06B0CC53B0F63BCE3C3E27D2604B\n",
    "nistp256r1_field = GF(nistp256r1_modulus)\n",
    "nistp256r1 = EllipticCurve(nistp256r1_field, [0,0,0,nistp256r1_a,nistp256r1_b])\n",
    "\n",
    "\n",
    "publuc = nistp256r1(0x3B827FF5E8EA151E6E51F8D0ABF08D90F571914A595891F9998A5BD49DFA3531, 0xAB61705C502CA0F7AA127DEC096B2BBDC9BD3B4281808B3740C320810888592A)\n",
    "\n",
    "nistp256r1_base_x = 0x6B17D1F2E12C4247F8BCE6E563A440F277037D812DEB33A0F4A13945D898C296\n",
    "nistp256r1_base_y = 0x4FE342E2FE1A7F9B8EE7EB4A7C0F9E162BCE33576B315ECECBB6406837BF51F5\n",
    "nistp256r1_gen = nistp256r1(nistp256r1_base_x, nistp256r1_base_y, 1)\n",
    "\n",
    "curve = nistp256r1\n",
    "curve_order = nistp256r1_order\n",
    "curve_gen = nistp256r1_gen\n",
    "CG = Zmod(curve_order)\n",
    "\n",
    "### these are \"inputs\" to the system. Only pubkey is known to an attacker\n",
    "privkey = 115792089210356248762697446949407573529996955224135760342422259061068512044370\n",
    "Q = curve(ZZ(privkey) * curve_gen)\n",
    "\n",
    "### The attacker generates the necessary malicious generator\n",
    "a = nistp256r1.order()\n",
    "print(a)\n",
    "kprime = CG.random_element()\n",
    "kprimeinv = kprime.inverse_of_unit() \n",
    "Gprime = ZZ(kprimeinv) * Q\n",
    "\n",
    "### We can now verify that the attacker knows a private key corresponding\n",
    "### to the public key under their generator\n",
    "Qprime = curve(ZZ(kprime) * Gprime)\n",
    "print(\"Q==Q'\", Qprime == Q)\n",
    "print(Qprime.xy())\n",
    "print(Q.xy())\n",
    "print(f\"{publuc = }\")\n",
    "kprime = 1\n",
    "kprimeinv = kprime.inverse_of_unit() \n",
    "Gprime = ZZ(kprimeinv) * G\n",
    "\n",
    "\n",
    "print(Gprime)\n",
    "print(publuc)"
   ]
  },
  {
   "cell_type": "code",
   "execution_count": 74,
   "metadata": {
    "vscode": {
     "languageId": "python"
    }
   },
   "outputs": [
    {
     "name": "stdout",
     "output_type": "stream",
     "text": [
      "public = (26917031336335630350805290904899574903292792639991422008541635695952008983857 : 77517656757371332161127542375026653060402730453393832579023072993157413624106 : 1)\n",
      "True\n",
      "(26917031336335630350805290904899574903292792639991422008541635695952008983857 : 77517656757371332161127542375026653060402730453393832579023072993157413624106 : 1)\n",
      "(48439561293906451759052585252797914202762949526041747995844080717082404635286 : 36134250956749795798585127919587881956611106672985015071877198253568414405109 : 1)\n",
      "d = 32511764636682119830269914563510320497452961174757542007177446102401703182732\n",
      "(110337970039576618360859391707995760569302199920708125523834467318384881200283 : 30054725679198088606915845193987475422834332372147880532731572312729348595748 : 1)\n"
     ]
    }
   ],
   "source": [
    "p = 0xffffffff00000001000000000000000000000000ffffffffffffffffffffffff\n",
    "a = 0xffffffff00000001000000000000000000000000fffffffffffffffffffffffc\n",
    "b = 0x5ac635d8aa3a93e7b3ebbd55769886bc651d06b0cc53b0f63bce3c3e27d2604b\n",
    "F = GF(p)\n",
    "E = EllipticCurve(F, [a, b])\n",
    "\n",
    "# Public key of www.bing.com\n",
    "public = E(0x3B827FF5E8EA151E6E51F8D0ABF08D90F571914A595891F9998A5BD49DFA3531, 0xAB61705C502CA0F7AA127DEC096B2BBDC9BD3B4281808B3740C320810888592A)\n",
    "print(f\"{public = }\")\n",
    "# Order of the group a\n",
    "# a = 115792089210356248762697446949407573529996955224135760342422259061068512044369\n",
    "k = E.order()\n",
    "public = public * (k + 1)\n",
    "print(public * (k + 1) == public)\n",
    "print(public * (k + 1))\n",
    "G = E(0x6B17D1F2E12C4247F8BCE6E563A440F277037D812DEB33A0F4A13945D898C296,\n",
    "                    0x4FE342E2FE1A7F9B8EE7EB4A7C0F9E162BCE33576B315ECECBB6406837BF51F5)\n",
    "print(G)\n",
    "d = (pow(G[0]+1, -1, k))\n",
    "print(f\"{d = }\")\n",
    "\n",
    "Q = curve(ZZ(d) * G)\n",
    "print(Q)"
   ]
  },
  {
   "cell_type": "code",
   "execution_count": null,
   "metadata": {
    "vscode": {
     "languageId": "python"
    }
   },
   "outputs": [],
   "source": []
  }
 ],
 "metadata": {
  "kernelspec": {
   "display_name": "SageMath 9.5",
   "language": "sage",
   "name": "sagemath"
  },
  "language_info": {
   "codemirror_mode": {
    "name": "ipython",
    "version": 3
   },
   "file_extension": ".py",
   "mimetype": "text/x-python",
   "name": "sage",
   "nbconvert_exporter": "python",
   "pygments_lexer": "ipython3",
   "version": "3.10.12"
  }
 },
 "nbformat": 4,
 "nbformat_minor": 2
}
