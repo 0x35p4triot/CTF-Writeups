{
 "cells": [
  {
   "cell_type": "code",
   "execution_count": 4,
   "metadata": {
    "vscode": {
     "languageId": "python"
    }
   },
   "outputs": [
    {
     "name": "stdout",
     "output_type": "stream",
     "text": [
      "Generator: (479691812266187139164535778017 : 568535594075310466177352868412 : 1)\n",
      "Alice Public key: (168917802399337478684281866339 : 953151595105409092575559059589 : 1)\n",
      "Bob Public key: (1046854702713187185926514525156 : 731057355374774075448299614393 : 1)\n",
      "Encrypted flag: {'iv': '1567d5791b608499eeaccea607a99381', 'encrypted_flag': 'ddcceda97c7510eae016d61b6e206e2875554f6c9621887a6554ecbb68b1be94fb6b6e73926755f03795277b2dee4876'}\n"
     ]
    }
   ],
   "source": [
    "import random\n",
    "import hashlib\n",
    "from Crypto.Cipher import AES\n",
    "from Crypto.Util.Padding import pad, unpad\n",
    "\n",
    "FLAG = b\"crypto{??????????????????????????????????????}\"\n",
    "\n",
    "def gen_keypair(G, p):\n",
    "    n = random.randint(1, (p-1))\n",
    "    P = n*G\n",
    "    return n, P\n",
    "\n",
    "def gen_shared_secret(P, n):\n",
    "    S = P*n\n",
    "    return S.xy()[0]\n",
    "\n",
    "def encrypt_flag(shared_secret: int):\n",
    "    # Derive AES key from shared secret\n",
    "    sha1 = hashlib.sha1()\n",
    "    sha1.update(str(shared_secret).encode('ascii'))\n",
    "    key = sha1.digest()[:16]\n",
    "    # Encrypt flag\n",
    "    iv = os.urandom(16)\n",
    "    cipher = AES.new(key, AES.MODE_CBC, iv)\n",
    "    ciphertext = cipher.encrypt(pad(FLAG, 16))\n",
    "    # Prepare data to send\n",
    "    data = {}\n",
    "    data['iv'] = iv.hex()\n",
    "    data['encrypted_flag'] = ciphertext.hex()\n",
    "    return data\n",
    "\n",
    "# Define Curve params\n",
    "p = 1331169830894825846283645180581\n",
    "a = -35\n",
    "b = 98\n",
    "E = EllipticCurve(GF(p), [a,b])\n",
    "G = E.gens()[0]\n",
    "\n",
    "# Generate keypair\n",
    "n_a, P1 = gen_keypair(G, p)\n",
    "n_b, P2 = gen_keypair(G, p)\n",
    "\n",
    "# Calculate shared secret\n",
    "S1 = gen_shared_secret(P1, n_b)\n",
    "S2 = gen_shared_secret(P2, n_a)\n",
    "\n",
    "# Check protocol works\n",
    "assert S1 == S2\n",
    "\n",
    "flag = encrypt_flag(S1)\n",
    "\n",
    "print(f\"Generator: {G}\")\n",
    "print(f\"Alice Public key: {P1}\")\n",
    "print(f\"Bob Public key: {P2}\")\n",
    "print(f\"Encrypted flag: {flag}\")\n"
   ]
  },
  {
   "cell_type": "code",
   "execution_count": 11,
   "metadata": {
    "vscode": {
     "languageId": "python"
    }
   },
   "outputs": [
    {
     "name": "stdout",
     "output_type": "stream",
     "text": [
      "Computing log...\n",
      "b'crypto{MOV_attack_on_non_supersingular_curves}\\x02\\x02'\n"
     ]
    }
   ],
   "source": [
    "import random\n",
    "import hashlib\n",
    "from Crypto.Cipher import AES\n",
    "from Crypto.Util.Padding import pad, unpad\n",
    "from sage.all import *\n",
    "\n",
    "\n",
    "p = 1331169830894825846283645180581\n",
    "a = -35\n",
    "b = 98\n",
    "E = EllipticCurve(GF(p), [a,b])\n",
    "G = E(479691812266187139164535778017, 568535594075310466177352868412)\n",
    "A = E(1110072782478160369250829345256, 800079550745409318906383650948)\n",
    "B = E(1290982289093010194550717223760, 762857612860564354370535420319)\n",
    "iv = 'eac58c26203c04f68d63dc2c58d79aca'\n",
    "encrypted_flag = 'bb9ecbd3662d0671fd222ccb07e27b5500f304e3621a6f8e9c815bc8e4e6ee6ebc718ce9ca115cb4e41acb90dbcabb0d'\n",
    "\n",
    "\n",
    "def movAttack(G, Q):\n",
    "    k = 1\n",
    "    while (p**k - 1) % E.order():\n",
    "        k += 1\n",
    "\n",
    "    Ee = EllipticCurve(GF(p**k, 'y'), [a, b])\n",
    "\n",
    "    R = Ee.random_point()\n",
    "    m = R.order()\n",
    "    d = gcd(m, G.order())\n",
    "    B = (m // d) * R\n",
    "\n",
    "    assert G.order() / B.order() in ZZ\n",
    "    assert G.order() == B.order()\n",
    "\n",
    "    Ge = Ee(G)\n",
    "    Qe = Ee(Q)\n",
    "\n",
    "    n = G.order()\n",
    "    alpha = Ge.weil_pairing(B, n)\n",
    "    beta = Qe.weil_pairing(B, n)\n",
    "\n",
    "    print('Computing log...')\n",
    "    nQ = beta.log(alpha)\n",
    "    return nQ\n",
    "\n",
    "def decrypt_flag(shared_secret, iv, encrypted_flag):\n",
    "    # Derive AES key from shared secret\n",
    "    sha1 = hashlib.sha1()\n",
    "    sha1.update(str(shared_secret).encode('ascii'))\n",
    "    key = sha1.digest()[:16]\n",
    "    # Encrypt flag\n",
    "    iv = bytes.fromhex(iv)\n",
    "    encrypted_flag = bytes.fromhex(encrypted_flag)\n",
    "    cipher = AES.new(key, AES.MODE_CBC, iv)\n",
    "    plaintext = cipher.decrypt(encrypted_flag)\n",
    "    # Prepare data to send\n",
    "    return plaintext\n",
    "\n",
    "nB = movAttack(G, B)\n",
    "shared_secret = (A * nB)[0]\n",
    "\n",
    "print(decrypt_flag(shared_secret, iv, encrypted_flag))"
   ]
  }
 ],
 "metadata": {
  "kernelspec": {
   "display_name": "SageMath 9.5",
   "language": "sage",
   "name": "sagemath"
  },
  "language_info": {
   "codemirror_mode": {
    "name": "ipython",
    "version": 3
   },
   "file_extension": ".py",
   "mimetype": "text/x-python",
   "name": "sage",
   "nbconvert_exporter": "python",
   "pygments_lexer": "ipython3",
   "version": "3.10.12"
  }
 },
 "nbformat": 4,
 "nbformat_minor": 2
}
