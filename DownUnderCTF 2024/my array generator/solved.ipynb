{
 "cells": [
  {
   "cell_type": "code",
   "execution_count": 48,
   "metadata": {},
   "outputs": [
    {
     "name": "stdout",
     "output_type": "stream",
     "text": [
      "plaintext = \"2725bebc0cf702411734877030020c35501885a8afc4805356e2ff1fcfdc3d91207d42ce9b4c97f1c473c9c52e21e8e67202763ac03fa47c94633913c6b8c1477702cd264ab0d1f70a636e976bb08769ebaf8bdad968b89d84f2a62e3676290a271751ea760f1563a180c802cfc71d448292840b0f0688e11c3cdb4f7dbf5f909ed25a455ba89b57962261ac4935f014087dde1ccb91920a7f59f63002c082454dfb86414cda1d6434cec46f5788375714949d87f6510ed15deef1ebf9e97ba33257b8145439d68991952b25249ba32d0d6eb37ac8dbf4f8f4ba962e6fd91bbb3d35b270a2642146386a3b717817be9c3000ddbb91b479773f76538e40feb8af472c918ba0909fa7864063cca614ae8ac84054634bfa620396dba5d4f28a47df5aa8d7175f98e263f68673e73026df34b524f5c62ccdefa1b622d3c3a60650077f78419b29fb2127a45bfcb81da782817a8167f1d6f7dcfafac1e0d28279fe8d0371015c9987ced224997fa9c05b24484b3d1c89ae62e31fffcbc76cb0ab578107c9e7e8b65b46fc81617b942c9b6fc2937d65bb4c9b48bae0b4a34a198eb71c6a1dc62d1ec11e35e2e3ff8f5266b7c75a4eb46aef8930f4f26881fe2ae4a04eef620117c69545e5b97443c562b496168014c1c60bd5f2bf04526ede9eab337c9937153766a4aa48dd2c3dc80750297a581bb37cd4e94aef514a7554eaf1f3a47c88deefdbfcceef77ad7e69c126ff643dbe7c3f067a0eef8e55285f5a386923a61a39b2f95cb0c46a8f37f61870c731cb4b8052d9f83b47d76cf2f81f1aac7c46cf7e2f5edbb9092ebd1a5ee48d5d5ccb1c930b851cfd671b860c2df457a99acbc269a804666ca573e459ff6017e067997b076e36ceef81fa2736b3de58591ec139b7da284490ef48828404a5a3bbf5f1de9bcd7d5f94813375cd39ff32886aa019d768aaec274028d49921a6b0b46e8fab50562ace1fb1feacdb7fd4614f826f07b901eeaca62c9240e84fa398dae518e9f5b7399e5b19e1b2aace8c8ca4fdc4064dfa08a0aacd9d6b77e5ee0b19a3c0b2401dcc99f78f5f1a56320f666cf9452d6742a7dc7cdc54966c38ad556d918c3fe7c343c333e900d8f0d486f0ff0767de1622696c9798ce277da6dc0c0144ca63f6a78ab9f166bcf716b9172211d246c85dec04bf26ab1359ec5ed7f829e847040a0c3e1b96ea7ac05b2a16d0d02dd4c5913031bb8b6af0f0e1f56864d089152ae184167c2706b12f23f5bf88db4a1536f083fbf7b0329b01f78736119093c7fb4539d2ed6a7f2aa7c051d19c4a09429fc07b142abb46ecf2944f193e235d302acbcf2322edea18cfc6169b93c4775c5201a605647f101fb5f2491a979564561799932882192e4f2e7ce48671e9c4c1966953ed077c8e289acfef6d9234a55042346886d0cf16af7e6e66fe5dbba24ebe6567ff468fcfea0dcdced484b413f551782f8614cd71ef5db478bf32a90e2ce89447ab60bad7909e36254ef99350fe1579bb6e3cce56ce7344f46a4a71788b3c5dc84bcbf10cc900dc4d3bf5a7327c90b9f38513ec787835304f423849536b5fe6300eb7392099e08bdd4657dc7c325a6db7d7d169bc5ca3ca226663a30811e9de9012fd129e2aca0726df0ad87d166864254c5026ec3f1c2887c50aedcbb8c930b577f3fcc3d3dde343a539019bd69f6fc53b6cf02c9a8e8067c838a6bc432b71f4ed6f6160897c9b5e01666229844714f74bfd7719491f8e9c9444268775328296ee85f84bd14ac7d1466911484e350b8d990141c5c08086585060151e\"\n"
     ]
    },
    {
     "ename": "TypeError",
     "evalue": "from_bytes() missing required argument 'byteorder' (pos 2)",
     "output_type": "error",
     "traceback": [
      "\u001b[0;31m---------------------------------------------------------------------------\u001b[0m",
      "\u001b[0;31mTypeError\u001b[0m                                 Traceback (most recent call last)",
      "\u001b[0;32m/tmp/ipykernel_21849/3156644240.py\u001b[0m in \u001b[0;36m<module>\u001b[0;34m\u001b[0m\n\u001b[1;32m     70\u001b[0m     \u001b[0mprint\u001b[0m\u001b[0;34m(\u001b[0m\u001b[0;34mf'plaintext = \"{plaintext.hex()}\"'\u001b[0m\u001b[0;34m)\u001b[0m\u001b[0;34m\u001b[0m\u001b[0;34m\u001b[0m\u001b[0m\n\u001b[1;32m     71\u001b[0m \u001b[0;34m\u001b[0m\u001b[0m\n\u001b[0;32m---> 72\u001b[0;31m     \u001b[0mciphertext\u001b[0m \u001b[0;34m=\u001b[0m \u001b[0mcipher\u001b[0m\u001b[0;34m.\u001b[0m\u001b[0mencrypt\u001b[0m\u001b[0;34m(\u001b[0m\u001b[0mplaintext\u001b[0m\u001b[0;34m)\u001b[0m\u001b[0;34m\u001b[0m\u001b[0;34m\u001b[0m\u001b[0m\n\u001b[0m\u001b[1;32m     73\u001b[0m     \u001b[0mprint\u001b[0m\u001b[0;34m(\u001b[0m\u001b[0;34mf'ciphertext = \"{ciphertext.hex()}\"'\u001b[0m\u001b[0;34m)\u001b[0m\u001b[0;34m\u001b[0m\u001b[0;34m\u001b[0m\u001b[0m\n",
      "\u001b[0;32m/tmp/ipykernel_21849/3156644240.py\u001b[0m in \u001b[0;36mencrypt\u001b[0;34m(self, plaintext)\u001b[0m\n\u001b[1;32m     50\u001b[0m \u001b[0;34m\u001b[0m\u001b[0m\n\u001b[1;32m     51\u001b[0m     \u001b[0;32mdef\u001b[0m \u001b[0mencrypt\u001b[0m\u001b[0;34m(\u001b[0m\u001b[0mself\u001b[0m\u001b[0;34m,\u001b[0m \u001b[0mplaintext\u001b[0m\u001b[0;34m:\u001b[0m \u001b[0mbytes\u001b[0m\u001b[0;34m)\u001b[0m \u001b[0;34m->\u001b[0m \u001b[0mbytes\u001b[0m\u001b[0;34m:\u001b[0m\u001b[0;34m\u001b[0m\u001b[0;34m\u001b[0m\u001b[0m\n\u001b[0;32m---> 52\u001b[0;31m         \u001b[0mself\u001b[0m\u001b[0;34m.\u001b[0m\u001b[0mprepare\u001b[0m\u001b[0;34m(\u001b[0m\u001b[0;34m)\u001b[0m\u001b[0;34m\u001b[0m\u001b[0;34m\u001b[0m\u001b[0m\n\u001b[0m\u001b[1;32m     53\u001b[0m \u001b[0;34m\u001b[0m\u001b[0m\n\u001b[1;32m     54\u001b[0m         \u001b[0mct\u001b[0m \u001b[0;34m=\u001b[0m \u001b[0;34mb\"\"\u001b[0m\u001b[0;34m\u001b[0m\u001b[0;34m\u001b[0m\u001b[0m\n",
      "\u001b[0;32m/tmp/ipykernel_21849/3156644240.py\u001b[0m in \u001b[0;36mprepare\u001b[0;34m(self)\u001b[0m\n\u001b[1;32m     15\u001b[0m     \u001b[0;32mdef\u001b[0m \u001b[0mprepare\u001b[0m\u001b[0;34m(\u001b[0m\u001b[0mself\u001b[0m\u001b[0;34m)\u001b[0m\u001b[0;34m:\u001b[0m\u001b[0;34m\u001b[0m\u001b[0;34m\u001b[0m\u001b[0m\n\u001b[1;32m     16\u001b[0m         \u001b[0mself\u001b[0m\u001b[0;34m.\u001b[0m\u001b[0mregisters\u001b[0m \u001b[0;34m=\u001b[0m \u001b[0;34m[\u001b[0m\u001b[0;36m0\u001b[0m \u001b[0;32mfor\u001b[0m \u001b[0m_\u001b[0m \u001b[0;32min\u001b[0m \u001b[0mrange\u001b[0m\u001b[0;34m(\u001b[0m\u001b[0mself\u001b[0m\u001b[0;34m.\u001b[0m\u001b[0mn_registers\u001b[0m\u001b[0;34m)\u001b[0m\u001b[0;34m]\u001b[0m\u001b[0;34m\u001b[0m\u001b[0;34m\u001b[0m\u001b[0m\n\u001b[0;32m---> 17\u001b[0;31m         \u001b[0mself\u001b[0m\u001b[0;34m.\u001b[0m\u001b[0mkey_extension\u001b[0m\u001b[0;34m(\u001b[0m\u001b[0mself\u001b[0m\u001b[0;34m.\u001b[0m\u001b[0mkey\u001b[0m\u001b[0;34m)\u001b[0m\u001b[0;34m\u001b[0m\u001b[0;34m\u001b[0m\u001b[0m\n\u001b[0m\u001b[1;32m     18\u001b[0m \u001b[0;34m\u001b[0m\u001b[0m\n\u001b[1;32m     19\u001b[0m         \u001b[0mself\u001b[0m\u001b[0;34m.\u001b[0m\u001b[0mcarry\u001b[0m \u001b[0;34m=\u001b[0m \u001b[0mself\u001b[0m\u001b[0;34m.\u001b[0m\u001b[0mregisters\u001b[0m\u001b[0;34m.\u001b[0m\u001b[0mpop\u001b[0m\u001b[0;34m(\u001b[0m\u001b[0;34m)\u001b[0m\u001b[0;34m\u001b[0m\u001b[0;34m\u001b[0m\u001b[0m\n",
      "\u001b[0;32m/tmp/ipykernel_21849/3156644240.py\u001b[0m in \u001b[0;36mkey_extension\u001b[0;34m(self, key)\u001b[0m\n\u001b[1;32m     27\u001b[0m             \u001b[0mj\u001b[0m \u001b[0;34m=\u001b[0m \u001b[0;34m(\u001b[0m\u001b[0;36m4\u001b[0m \u001b[0;34m*\u001b[0m \u001b[0mi\u001b[0m\u001b[0;34m)\u001b[0m \u001b[0;34m%\u001b[0m \u001b[0mKEY_SIZE\u001b[0m\u001b[0;34m\u001b[0m\u001b[0;34m\u001b[0m\u001b[0m\n\u001b[1;32m     28\u001b[0m             \u001b[0msubkey\u001b[0m \u001b[0;34m=\u001b[0m \u001b[0mkey\u001b[0m\u001b[0;34m[\u001b[0m\u001b[0mj\u001b[0m \u001b[0;34m:\u001b[0m \u001b[0mj\u001b[0m \u001b[0;34m+\u001b[0m \u001b[0;36m4\u001b[0m\u001b[0;34m]\u001b[0m\u001b[0;34m\u001b[0m\u001b[0;34m\u001b[0m\u001b[0m\n\u001b[0;32m---> 29\u001b[0;31m             \u001b[0mself\u001b[0m\u001b[0;34m.\u001b[0m\u001b[0mregisters\u001b[0m\u001b[0;34m[\u001b[0m\u001b[0mi\u001b[0m\u001b[0;34m]\u001b[0m \u001b[0;34m=\u001b[0m \u001b[0mint\u001b[0m\u001b[0;34m.\u001b[0m\u001b[0mfrom_bytes\u001b[0m\u001b[0;34m(\u001b[0m\u001b[0msubkey\u001b[0m\u001b[0;34m)\u001b[0m\u001b[0;34m\u001b[0m\u001b[0;34m\u001b[0m\u001b[0m\n\u001b[0m\u001b[1;32m     30\u001b[0m \u001b[0;34m\u001b[0m\u001b[0m\n\u001b[1;32m     31\u001b[0m     \u001b[0;32mdef\u001b[0m \u001b[0mkey_initialisation\u001b[0m\u001b[0;34m(\u001b[0m\u001b[0mself\u001b[0m\u001b[0;34m,\u001b[0m \u001b[0mF\u001b[0m\u001b[0;34m:\u001b[0m \u001b[0mint\u001b[0m\u001b[0;34m)\u001b[0m\u001b[0;34m:\u001b[0m\u001b[0;34m\u001b[0m\u001b[0;34m\u001b[0m\u001b[0m\n",
      "\u001b[0;31mTypeError\u001b[0m: from_bytes() missing required argument 'byteorder' (pos 2)"
     ]
    }
   ],
   "source": [
    "#!/usr/bin/env python3\n",
    "import random\n",
    "import os\n",
    "\n",
    "KEY = b\"DUCTF{XXXXXXXXXXXXXXXXXXXXXXXXX}\"\n",
    "KEY_SIZE = 32\n",
    "F = 2**14\n",
    "\n",
    "\n",
    "class MyArrayGenerator:\n",
    "    def __init__(self, key: bytes, n_registers: int = 128):\n",
    "        self.key = key\n",
    "        self.n_registers = n_registers\n",
    "\n",
    "    def prepare(self):\n",
    "        self.registers = [0 for _ in range(self.n_registers)]\n",
    "        self.key_extension(self.key)\n",
    "\n",
    "        self.carry = self.registers.pop()\n",
    "        self.key_initialisation(F)\n",
    "\n",
    "    def key_extension(self, key: bytes):\n",
    "        if len(key) != KEY_SIZE:\n",
    "            raise ValueError(f\"Key length should be {KEY_SIZE} bytes.\")\n",
    "\n",
    "        for i in range(len(self.registers)):\n",
    "            j = (4 * i) % KEY_SIZE\n",
    "            subkey = key[j : j + 4]\n",
    "            self.registers[i] = int.from_bytes(subkey)\n",
    "\n",
    "    def key_initialisation(self, F: int):\n",
    "        for _ in range(F):\n",
    "            self.update()\n",
    "\n",
    "    def shift(self):\n",
    "        self.registers = self.registers[1:]\n",
    "\n",
    "    def update(self):\n",
    "        r0, r1, r2, r3 = self.registers[:4]\n",
    "\n",
    "        self.carry ^= r1 if r2 > r3 else (r1 ^ 0xFFFFFFFF)\n",
    "\n",
    "        self.shift()\n",
    "        self.registers.append(self.registers[-1] ^ self.carry)\n",
    "\n",
    "    def get_keystream(self) -> int:\n",
    "        byte_index = random.randint(0, 3)\n",
    "        byte_mask = 0xFF << (8 * byte_index)\n",
    "        return (self.registers[-1] & byte_mask) >> (8 * byte_index)\n",
    "\n",
    "    def encrypt(self, plaintext: bytes) -> bytes:\n",
    "        self.prepare()\n",
    "\n",
    "        ct = b\"\"\n",
    "        for b in plaintext:\n",
    "            self.update()\n",
    "            ct += int.to_bytes(self.get_keystream() ^ b)\n",
    "\n",
    "        return ct\n",
    "\n",
    "    def decrypt(self, ciphertext: bytes) -> bytes:\n",
    "        return self.encrypt(ciphertext)\n",
    "\n",
    "\n",
    "if __name__ == \"__main__\":\n",
    "    random.seed(1234)\n",
    "    cipher = MyArrayGenerator(KEY)\n",
    "\n",
    "    plaintext = os.urandom(1280)\n",
    "    print(f'plaintext = \"{plaintext.hex()}\"')\n",
    "\n",
    "    ciphertext = cipher.encrypt(plaintext)\n",
    "    print(f'ciphertext = \"{ciphertext.hex()}\"')\n"
   ]
  }
 ],
 "metadata": {
  "kernelspec": {
   "display_name": "Python 3",
   "language": "python",
   "name": "python3"
  },
  "language_info": {
   "codemirror_mode": {
    "name": "ipython",
    "version": 3
   },
   "file_extension": ".py",
   "mimetype": "text/x-python",
   "name": "python",
   "nbconvert_exporter": "python",
   "pygments_lexer": "ipython3",
   "version": "3.10.12"
  }
 },
 "nbformat": 4,
 "nbformat_minor": 2
}
