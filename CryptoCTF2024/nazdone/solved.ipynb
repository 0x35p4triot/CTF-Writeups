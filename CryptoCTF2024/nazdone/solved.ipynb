{
 "cells": [
  {
   "cell_type": "code",
   "execution_count": 5,
   "metadata": {},
   "outputs": [
    {
     "name": "stdout",
     "output_type": "stream",
     "text": [
      "19 (x^106 + x^81 + x^77 + x^59 + x^47 + x^42 + x^22 + x^11 + x^7 + 2) * (x^107 + x^88 + x^51 + x^43 + x^37 + x^36 + x^35 + x^18 + x^14 + 2) * (x^108 + x^93 + x^74 + x^64 + x^31 + 2)\n",
      "True\n",
      "(10, 10, 6)\n",
      "Inverse does not exist.\n",
      "Inverse does not exist.\n",
      "Argument 'self' has incorrect type (expected sage.rings.finite_rings.integer_mod.IntegerMod_gmp, got int)\n",
      "Inverse does not exist.\n",
      "Argument 'self' has incorrect type (expected sage.rings.finite_rings.integer_mod.IntegerMod_gmp, got int)\n",
      "Inverse does not exist.\n",
      "Inverse does not exist.\n",
      "Inverse does not exist.\n",
      "Inverse does not exist.\n",
      "Inverse does not exist.\n"
     ]
    }
   ],
   "source": [
    "from Crypto.Util.number import *\n",
    "from sage.all import *\n",
    "\n",
    "n = 301929748923678449872944933611657670834216889867340028357609265175830693931365828840717548752313862343315133541384709574659039910206634528428504034051556622114290811586746168354731258756502196637977942743110508997919976400864419640496894428180120687863921269087080600917900477624095004141559042793509244689248253036809126205146653922738685595903222471152317095497914809983689734189245440774658145462867680027337\n",
    "c = 104375152140523502741159687674899095271676058870899569351687154311685938980840028326701029233383897490722759532494438442871187152038720886122756131781086198384270569105043114469786514257765392820254951665751573388426239366215033932234329514161827069071792449190823827669673064646681779764841034307000600929149689291216313319444583032339045277433847691961234044840927155960887984372868669401051358701522484473320\n",
    "\n",
    "def rebase(n, b):\n",
    "    if n < b:\n",
    "        return [n]\n",
    "    else:\n",
    "        return [n % b] + rebase(n//b, b)\n",
    "\n",
    "x = var('x')\n",
    "P = PolynomialRing(ZZ, x)\n",
    "for m in range(3, 200):\n",
    "     tmp = rebase(n, m)\n",
    "     k1 = factor(P(tmp))\n",
    "     if len(k1) >= 3:\n",
    "        print(m, k1)\n",
    "        break\n",
    "\n",
    "t1, t2, t3 = [x[0] for x in factor(P(rebase(n, 19)))]\n",
    "p, q, r = t1(m), t2(m), t3(m)\n",
    "print(p * q * r == n)\n",
    "print((len(t1.coefficients()), len(t2.coefficients()), len(t3.coefficients())))\n",
    "\n",
    "for z in range(10, 20):\n",
    "    tmp_pow = 19**3 + z - 2\n",
    "    try:\n",
    "        p1 = pow(tmp_pow, -1, p - 1)\n",
    "        p2 = pow(tmp_pow, -1, q - 1)\n",
    "        p3 = pow(tmp_pow, -1, r - 1)\n",
    "\n",
    "        m1 = pow(c, p1, p)\n",
    "        m2 = pow(c, p2, q)\n",
    "        m3 = pow(c, p3, r)\n",
    "        res = crt([m1, m2, m3], [p, q, r])\n",
    "        print(res)\n",
    "        print(int(res).to_bytes(50, 'big'))\n",
    "    except Exception as e:\n",
    "        print(e)\n",
    "        continue"
   ]
  }
 ],
 "metadata": {
  "kernelspec": {
   "display_name": "Python 3",
   "language": "python",
   "name": "python3"
  },
  "language_info": {
   "codemirror_mode": {
    "name": "ipython",
    "version": 3
   },
   "file_extension": ".py",
   "mimetype": "text/x-python",
   "name": "python",
   "nbconvert_exporter": "python",
   "pygments_lexer": "ipython3",
   "version": "3.10.12"
  }
 },
 "nbformat": 4,
 "nbformat_minor": 2
}
