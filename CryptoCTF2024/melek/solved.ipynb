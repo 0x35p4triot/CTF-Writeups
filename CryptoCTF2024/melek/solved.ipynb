{
 "cells": [
  {
   "cell_type": "code",
   "execution_count": 1,
   "metadata": {
    "vscode": {
     "languageId": "python"
    }
   },
   "outputs": [
    {
     "name": "stdout",
     "output_type": "stream",
     "text": [
      "b'CCTF{SSS_iZ_4n_3fF!ciEn7_5ecr3T_ShArIn9_alGorItHm!}'\n"
     ]
    }
   ],
   "source": [
    "from Crypto.Util.number import long_to_bytes\n",
    "from output import enc\n",
    "\n",
    "e, p, PT = enc\n",
    "\n",
    "F = GF(p)\n",
    "R = F['x']\n",
    "\n",
    "poly = R.lagrange_polynomial(PT)\n",
    "ct = poly.coefficients()[0]\n",
    "m = (ct^(Zmod(p - 1)(e // 2)^-1)).sqrt()\n",
    "\n",
    "print(long_to_bytes(int(m)))"
   ]
  }
 ],
 "metadata": {
  "kernelspec": {
   "display_name": "SageMath 9.5",
   "language": "sage",
   "name": "sagemath"
  },
  "language_info": {
   "codemirror_mode": {
    "name": "ipython",
    "version": 3
   },
   "file_extension": ".py",
   "mimetype": "text/x-python",
   "name": "sage",
   "nbconvert_exporter": "python",
   "pygments_lexer": "ipython3",
   "version": "3.10.12"
  }
 },
 "nbformat": 4,
 "nbformat_minor": 2
}
