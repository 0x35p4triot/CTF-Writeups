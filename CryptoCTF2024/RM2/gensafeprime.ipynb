{
 "cells": [
  {
   "cell_type": "code",
   "execution_count": 1,
   "metadata": {},
   "outputs": [
    {
     "name": "stdout",
     "output_type": "stream",
     "text": [
      "p = 164846005592036870864087172486238098982400199263983443700533205315133651273767296013024564753361093979354778151424162209178176048161907290293115043655130423109009524842101088700569221813321440865727857427379498665422539218684595215982575869476515101517787491698424911167369006629632400903618406337949840590699\n",
      "q = 148343204486730003046236481388229015391444173727351707181556568445683259907957655908636342481252128382401820609016632256832467159791577332215355388072190156091900343634247521912288083353968283993765508323950805099578964975590794953416982218437291865698557743196952636104345294267473386526593120294405157544923\n"
     ]
    }
   ],
   "source": [
    "from Crypto.Util.number import *\n",
    "import gensafeprime\n",
    "\n",
    "while True:\n",
    "\tp=gensafeprime.generate(1024)\n",
    "\tif(isPrime(2*p+1)):\n",
    "\t\tprint(f\"{p = }\")\n",
    "\t\tbreak\n",
    "\t\t\n",
    "while True:\n",
    "\tq=gensafeprime.generate(1024)\n",
    "\tif(isPrime(2*q+1)):\n",
    "\t\tprint(f\"{q = }\")\n",
    "\t\tbreak"
   ]
  }
 ],
 "metadata": {
  "kernelspec": {
   "display_name": "Python 3",
   "language": "python",
   "name": "python3"
  },
  "language_info": {
   "codemirror_mode": {
    "name": "ipython",
    "version": 3
   },
   "file_extension": ".py",
   "mimetype": "text/x-python",
   "name": "python",
   "nbconvert_exporter": "python",
   "pygments_lexer": "ipython3",
   "version": "3.10.12"
  }
 },
 "nbformat": 4,
 "nbformat_minor": 2
}
