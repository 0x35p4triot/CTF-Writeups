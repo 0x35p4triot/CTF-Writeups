{
 "cells": [
  {
   "cell_type": "code",
   "execution_count": 2,
   "metadata": {},
   "outputs": [
    {
     "name": "stdout",
     "output_type": "stream",
     "text": [
      "{48: 49, 49: 52, 50: 55, 51: 58, 52: 62, 53: 66, 54: 71, 55: 76, 56: 81, 57: 86, 97: 431, 98: 444, 99: 457, 100: 470, 101: 484, 102: 498, 103: 512, 104: 526, 105: 540, 106: 554, 107: 568, 108: 582, 109: 596, 110: 610, 111: 625, 112: 640, 113: 655, 114: 670, 115: 685, 116: 700, 117: 715, 118: 730, 119: 745, 120: 760, 121: 775, 122: 790, 65: 134, 66: 141, 67: 148, 68: 155, 69: 162, 70: 169, 71: 176, 72: 184, 73: 192, 74: 200, 75: 208, 76: 216, 77: 224, 78: 232, 79: 240, 80: 248, 81: 257, 82: 266, 83: 275, 84: 284, 85: 293, 86: 303, 87: 313, 88: 323, 89: 333, 90: 345, 33: 24, 34: 25, 35: 26, 36: 27, 37: 28, 38: 29, 39: 31, 40: 33, 41: 35, 42: 37, 43: 39, 44: 41, 45: 43, 46: 45, 47: 47, 58: 91, 59: 96, 60: 101, 61: 106, 62: 113, 63: 120, 64: 127, 91: 357, 92: 369, 93: 381, 94: 393, 95: 405, 96: 418, 123: 805, 124: 820, 125: 835, 126: 850, 32: 23, 9: 0, 10: 1, 13: 4, 11: 2, 12: 3}\n"
     ]
    }
   ],
   "source": [
    "from string import printable\n",
    "\n",
    "out = [49, 52, 55, 58, 62, 66, 71, 76, 81, 86, 431, 444, 457, 470, 484, 498, 512, 526, 540, 554, 568, 582, 596, 610, 625, 640, 655, 670, 685, 700, 715, 730, 745, 760, 775, 790, 134, 141, 148, 155, 162, 169, 176, 184, 192, 200, 208, 216, 224, 232, 240, 248, 257, 266, 275, 284, 293, 303, 313, 323, 333, 345, 24, 25, 26, 27, 28, 29, 31, 33, 35, 37, 39, 41, 43, 45, 47, 91, 96, 101, 106, 113, 120, 127, 357, 369, 381, 393, 405, 418, 805, 820, 835, 850, 23, 0, 1, 4, 2, 3]\n",
    "enc = bytes.fromhex('5f0a8761f98748422d97f60f11d8590d56e1462409a677fbf52259b084b8a724')\n",
    "\n",
    "h0_V = { ord(m):d for m,d in zip(printable, out) }\n",
    "print(h0_V)\n",
    "# In Pⁿ, we have h⁰(O(m)) = (m choose m+n) whenever m ≥ 0, and 0 otherwise\n",
    "#       ~> for n = 1,     = m+1\n",
    "\n",
    "# alpha = sorted(printable.encode())\n",
    "# pwd   = []\n",
    "# for m,n in zip(alpha, alpha[1:]):\n",
    "#     if h0_V[m] + (n-m)*len(pwd) != h0_V[n]:\n",
    "#         # new char discovered!\n",
    "#         # amount of occurences (keeping track of the dims of h⁰ we already know)\n",
    "#         r = h0_V[n] - h0_V[m] - (n-m)*len(pwd)\n",
    "#         print('-'*10)\n",
    "#         print('m  =', bytes([m]))\n",
    "#         print('n  =', bytes([n]))\n",
    "#         print('hm =', h0_V[m])\n",
    "#         print('hn =', h0_V[n])\n",
    "#         print('r  =', r)\n",
    "#         pwd.extend([n]*r)\n",
    "\n",
    "# print(bytes(pwd))\n",
    "\n",
    "# from Crypto.Cipher import AES\n",
    "# from hashlib import sha256\n",
    "\n",
    "# key = sha256(bytes(sorted(pwd))).digest()[:16]\n",
    "# aes = AES.new(key, AES.MODE_ECB)\n",
    "# dec = aes.decrypt(enc)\n",
    "# print('dec:', dec)"
   ]
  }
 ],
 "metadata": {
  "kernelspec": {
   "display_name": "SageMath 10.4",
   "language": "sage",
   "name": "sagemath"
  },
  "language_info": {
   "codemirror_mode": {
    "name": "ipython",
    "version": 3
   },
   "file_extension": ".py",
   "mimetype": "text/x-python",
   "name": "python",
   "nbconvert_exporter": "python",
   "pygments_lexer": "ipython3",
   "version": "3.10.12"
  }
 },
 "nbformat": 4,
 "nbformat_minor": 2
}
