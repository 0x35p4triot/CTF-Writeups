{
 "cells": [
  {
   "cell_type": "code",
   "execution_count": 17,
   "metadata": {},
   "outputs": [
    {
     "name": "stdout",
     "output_type": "stream",
     "text": [
      "b'G\\xb9\\x91\\xed\\x9cy$F\\xdc\\xf7\\xe2\\x94\\xcb\\xd3\\x01d\\xf7\\xf5%\\x8c\\x07\\x014\\r_>\\x1c\\x1c\\xe1\\x80\\x15\\xfa\\xaa\\x96\\xbd\\xf70*^\\xc2\\xe1\\xc3\\xf5\\xa6\\xb7k\\xd0_'\n",
      "b'\\x94\\xd4\\x81\\x97J\\x82\\x15\\x01\\r\\x86f\\xba\\xe0\\xd7\\x0c\\xd4\\x0f<\\xc7rLV r\\x03\\x9b\\xdc\\xa7\\xbbh\\xad\\xebdy\\xa3\\x06_\\x8f\\x01\\x90\\x9d\\xa3\\x00\\xa3\\x07\\xaa\\x85\\n'\n",
      "b'o\\x036\\xceP3\\x8bq\\xc1\\x1f\\x00la\\xc5\\x8d\\x7f\\xcb\\x87o\\x9c\\xdc\\x149\\r\\xc8\\x07\\xae,\\xde\\xf2\\x9a\\xa3\\xc0\\r\\xb9\\x18\\xab\\xe6v\\x01s\\xb8\\x04{\\xd5P\\xd0\\x8b'\n",
      "b'WU\\xe3\\x97\"e\\x0f\\xe36a\\x93\\x0e\\x02/\\xbe\\xe0\\xb6z\\x8e\\x8f\\x17\\x11\\xeb\\xd0\\x98P/H{\\x01\\xbf\\xee\\xd1\\xc9\\xbba\\x9d\\xfeGs?\\xaa\\xec\\xd1C\\x00\\xb3\\xa3'\n",
      "b'AKASEC{d1d_y0u_3nj0y_c41cu1u5_101?}\\r\\r\\r\\r\\r\\r\\r\\r\\r\\r\\r\\r\\r'\n",
      "b\"\\xed\\x9a\\xb9q&HO\\xc2r\\x8c\\x8e\\x86f\\xa1\\x89\\xd9b\\x7f\\xe7@+\\xb7\\xcf%/_\\xad\\xa4\\xf4l\\xa2\\xdd'd\\xf6\\x82\\xaf\\x03\\xa1\\x0b\\xeb-\\xa9\\xb5\\xcds.\\x19\"\n",
      "b'\\xd3\\x17~\\x1a\\xa2\\xe5},7\\x97\\xe4\\xe3\\xba\\x84\\xa2\\xb0\\x8c\\xb3\\xc9\\xf1\\xb7\\x05W^\\xa9\\x92\\xec\\x13\\xd8h|\\xb4\\xd7\\xadRvE\\\\\\xa6\\xe8\\xba\\xae\\x02\\x82\\xe3\\x1e\\x11\"'\n",
      "b'\\xa9,\\x86\\n\\xa4\\x97\\xb3\\x9c\\xb3\\x9aI\\xf5\\xae\\x81_\\xf43\\xa9\\xd8\\xc58\\xed\\x0bG\\xb6\\xfb\\xb62B\\xe7yR\\xd0\\xa9\\xb2\\xdck\\x14\\xc4\\xe2E\\x92\\x14\\xc5,\\xf01\\xaf'\n",
      "b'I;\\xf9n\\xdb\\xfe\\xfb\\x89I\\xaa\\x86\\xac\\xbc\\xb0<r\\xc9\\x030}L\\xba\\x08\\xeb!\\x96\\xb1{\\xc8\\xfe\\x15\\x93\\xfe,\\x14z\\xa4 N\\xd0\\x83#\\xc9\\x85\\xef\\x8au\\x10'\n",
      "b'p\\xeaO\\x9e\\x86\\xfa!\\xa1\\xddx:\\xca\\xfb\\x86\\xa8_\\xb9\\x9c\\xb5\\xac\\x07\\xae\\x96\\xd3\\x03\\xbc\\xbc\\x9aL\\xa6\\xe3\\xc4\\xcfG/ %\\xc3\\xdc#\\x04!6\\xe0~\\x86\\xe7y'\n",
      "b\"\\x9d\\x0b\\xf4\\x05\\xf3\\x9bt)\\x17'\\x14\\x1b\\x81[\\xca;\\xb6\\xcf\\xf0\\x9cp\\xff\\xaa\\xb8\\x89k\\xc6N\\xf9\\xd4N\\xdf\\xe1\\xb1!;B=\\n\\x1e\\x7f\\xbe\\x08\\x12\\xb4`\\xde\\x03\"\n",
      "b'\\xb5S\\xe0}\\x8d)\\xde\\x97\\x81\\xb4ln\\x80\\xb2T\\xc9e\\x0e\\x16\\xc4\\xd9E\\x98\\x96\\xd5q\\xda\\xecn3\\x11\\xda\\x1a \\x8du,\\x86WGfy\\xb1h\\xfd\\xa7e\\x16'\n",
      "b'\\x04\\xfe-\\x89\\xfc\\x82\\x8e\\xc4\\xeb}/E\\xa1\\xec\\xc9(\\xe3\\x02!:\\xef\\xf8\\xc6\\xcb\\xa7\\x02v>e.\\x8c\\x8e\\xa5\\xa1\\xf4C\\xa2\\xdb\\xb2\\xb0 \\xe7\\x0b\\xde\\x13G\\x85}'\n",
      "b'\\xd9\\xde\\x13\\x80@\\x15Z\\xfc8\\x1a\\xc7w\\xf8\\x05\\x8fw&\\xa1\\xfa\\x96\\xab\\x07\"\\x7f9\\x17a\\x1b[\\xd0\\',e\\xec\\x1d<\\x8e\\x13\\x99\\xef1\\x0eY\\xc0\\xd2\\xd8<['\n",
      "b'R\\x01\\x99\\xb4b2\\xf9\\x0eGc\\xcf\\xb1\\x1f\\x0b\\xf9kMQA\\xff\\xcb\\xf94\\x7f\\r\\xf2\\xc1\\xa6#\\x19c\\xf9cb\\xac-/F\\x9db2\\x7f\\xe0UU\\x93%*'\n",
      "b\"\\xb9\\xa9\\xfb3I\\xaa-\\x94\\xfc\\x8fH\\xb4\\xda\\x0ep\\xc9W\\xffj\\xcc4\\x83#\\x18\\xcb\\xe0\\xd6\\xc5@\\xae\\xedUq\\x93\\x13\\xe1y\\xab\\x0c5Mk\\x14\\xe5'\\xfc\\xd6\\x02\"\n",
      "b'\\x07#\\xfb\\x82@\\x9by\\x90\\xa6-\\xfd\\xe9\\x11\\x9as\\x03\\xfc\\xcf\\x94\\x1d\\xf7\\x8c#\\xcep\\xdd\\x1c\\xea\\xd2\\xbfX\\x07\\x1b0\\xc4\\xe2\\xf1_\\x94\\x98\\x0e\\xdd=\\xb6\\x014]K'\n",
      "b'\\x95K\\xe8/\\xf5\\x9f\\x16\\x92\\xd1\\x06\\x15\\xf8\\x9c0\\xf8h\\xd2\\xd7\\xc2i\\x08\\xa6\\x04\\xbd/m\\xc9\\xb2\\xe1\\xe3y\\xcbA2V*\\xbat\\x01\\x97\\x02\\xa1\\xf4\\x07\\xd6\\xbb\\xbf\\x9d'\n",
      "b'\\x92E\\xd0\\x1dz\\x07\\xdah\\xd9l\\xc9G\\x85^\\x11\\xc1[C\\xfb\\xabUCWg\\x1e\\x8a\\xb5\\x90\\xd97\\x8b)\\xf5.\\x04\\xae(,\\x94\\xad&\\xd9%\\x8e,\\xa3\\xe5\\x15'\n",
      "b'\\x16\\xc8\\xe1<\\xa4\\xcf\\xfcx}W\\x9c\\xd8[\\x10\\xfb\\xaeY\\xc2\\xf5R\\x1bo\\xa9\\x87\\x19\\xe4M@m*\\xcaG\\x03[\\xc4D\\xb0\\x02\\xc9e\\xe6/\\xcfa\\xb7\\xab\\xa0S'\n",
      "b\"\\xacQ\\xeb\\x0f\\xcf\\x81<{\\x8f\\xb0;EA/GM,\\x04\\xaa\\xfb\\x0f\\x0ec\\xe6)\\xec\\x7f\\x91\\xfa\\xb4'nm\\x8bN\\xb5\\xaa\\xb7\\xb1U\\xf0w\\xa16J\\xd9B\\t\"\n",
      "b'q\\xffJ\\xa0\\x17\\xd6C(]\\xc6\\xc6x\\x8f\\xf1\\x81\\x17`\\\\\\xd6+\\xd6v\\x08\\xe54\\xf9[&f:\\xccJ\\xaa\\\\L\\xb5\\xde\\x1d\\xd51\\xb1\\x96\\x14\\x98\\xb6\\xd0\\xb9_'\n",
      "b'\\xfa\\x8fyy\\xa1x\\x86o\\x97\\xd5\\xf4y\\t\\xd8!\\xd5\\x0e\\x96\\xc7Mq\\xb6C\\xbe]KM\\x19\\x84\\xcfN4\"\\x92\\xc9N\\x12\\x18\\x1e\\x0b`E\\x85\\xdf\\x9aZ\\x1d\\xb1'\n",
      "b'\\xe5\\xc3\\xf4\\x8c\\xdbt\\xaa<\\xf46w\\x14\\xeb`$a9\\x1d\\x8a\\x08\\x0c\\xe3F_\\xce\\xc4e@\\xb8mr\\xd6\\x18\\xe7\\xc74\\x7fDK\\x15\\x94\\xab\\xf62\\xf5\\xef\\xdeM'\n",
      "b'\\x08BPz\\x82\\xcc\"\\xb9\\xd2\\xeb\\x07jx\\xc6f\\x9d\\x1b\\xca;\\xdbF\\xae\\xfc\\xf1\\x9d9&\\xf6*F\\xdaao\\xb5\\x16T#R;\\xac\\xf4mV\\xe4\\xb7z\\xe4_'\n",
      "b'\\xb6\\x16W\\xba\\xde\\x1dy\\x11\\\\z\\xf8\\x96\\xf3\\xc4\\x88k%8\\x1dqf5\\x17\\xad\\x14\\xaa\\x05\\x82\\x07\\x1c\\x85\\xd3\\xb98,\\xc1OGQ`A\\xd8\\xcbEA\\xe9\\xf1/'\n",
      "b'k\\xcb[y\\xfe\\x9e\\x1e.\\xde2\\x11\\xe9\\xc20\\x07\\xd6v\\x9f&:\\xb8\\xb4Z\\xaaw~\\xc5\\xfb\\x82\\xdbLJ\\xe0v\\xdcw~Y\\xbe\\x93\\x1eP\\xd7\\x06\\xa3\\xa2P\\x10'\n"
     ]
    }
   ],
   "source": [
    "from sage.all import *\n",
    "import hashlib\n",
    "import sympy\n",
    "from Crypto.Cipher import AES\n",
    "from Crypto.Util.Padding import *\n",
    "\n",
    "for v0 in range(100):\n",
    "    for v1 in range(100):\n",
    "        if v0 | v1 != 14:\n",
    "            continue\n",
    "\n",
    "        x = var('x')\n",
    "        f = function('y')(x)\n",
    "        f_prime = diff(f, x)\n",
    "        f_second_prime = diff(f_prime, x)\n",
    "        f = desolve(2*f_second_prime - 6*f_prime + 3*f == 0, f, ics=[0,v0,v1], ivar=x)\n",
    "        f_prime  = derivative(f, x)\n",
    "\n",
    "        assert int(f_prime (x=0)) == v1 and int(f(x=0)) == v0\n",
    "        \n",
    "        key = 60\n",
    "        encrypted = bytes.fromhex(\"805534c14e694348a67da0d75165623cf603c2a98405b34fe3ba8752ce24f5040c39873ec2150a61591b233490449b8b7bedaf83aa9d4b57d6469cd3f78fdf55\")\n",
    "        iv = encrypted[:16]\n",
    "        ct = encrypted[16:]\n",
    "        \n",
    "        point = f(x=key)\n",
    "        val = sympy.N(point, 100)\n",
    "        point_hash = hashlib.sha256(str(val).encode()).digest()[:16]\n",
    "        cipher = AES.new(point_hash, iv=iv, mode=AES.MODE_CBC)\n",
    "        msg = cipher.decrypt(ct)\n",
    "        print(msg)\n",
    "        if b'AKASEC{' in msg:\n",
    "            print(msg)\n",
    "            print(unpad(msg, 16))\n",
    "            break"
   ]
  },
  {
   "cell_type": "code",
   "execution_count": 15,
   "metadata": {},
   "outputs": [
    {
     "ename": "TypeError",
     "evalue": "unsupported format string passed to Add.__format__",
     "output_type": "error",
     "traceback": [
      "\u001b[0;31m---------------------------------------------------------------------------\u001b[0m",
      "\u001b[0;31mTypeError\u001b[0m                                 Traceback (most recent call last)",
      "\u001b[0;32m/tmp/ipykernel_183132/2393518920.py\u001b[0m in \u001b[0;36m<module>\u001b[0;34m\u001b[0m\n\u001b[1;32m     17\u001b[0m \u001b[0;34m\u001b[0m\u001b[0m\n\u001b[1;32m     18\u001b[0m \u001b[0;31m# Băm giá trị f(key) để tạo khóa AES\u001b[0m\u001b[0;34m\u001b[0m\u001b[0;34m\u001b[0m\u001b[0m\n\u001b[0;32m---> 19\u001b[0;31m \u001b[0mf_key_value_str\u001b[0m \u001b[0;34m=\u001b[0m \u001b[0;34mf\"{f_key_value:.100f}\"\u001b[0m\u001b[0;34m\u001b[0m\u001b[0;34m\u001b[0m\u001b[0m\n\u001b[0m\u001b[1;32m     20\u001b[0m \u001b[0mhash_value\u001b[0m \u001b[0;34m=\u001b[0m \u001b[0mhashlib\u001b[0m\u001b[0;34m.\u001b[0m\u001b[0msha256\u001b[0m\u001b[0;34m(\u001b[0m\u001b[0mf_key_value_str\u001b[0m\u001b[0;34m.\u001b[0m\u001b[0mencode\u001b[0m\u001b[0;34m(\u001b[0m\u001b[0;34m)\u001b[0m\u001b[0;34m)\u001b[0m\u001b[0;34m.\u001b[0m\u001b[0mhexdigest\u001b[0m\u001b[0;34m(\u001b[0m\u001b[0;34m)\u001b[0m\u001b[0;34m\u001b[0m\u001b[0;34m\u001b[0m\u001b[0m\n\u001b[1;32m     21\u001b[0m \u001b[0;34m\u001b[0m\u001b[0m\n",
      "\u001b[0;31mTypeError\u001b[0m: unsupported format string passed to Add.__format__"
     ]
    }
   ],
   "source": [
    "from sympy import symbols, Eq, solve, exp, sqrt\n",
    "from sympy import lambdify\n",
    "import hashlib\n",
    "\n",
    "# Khai báo biến\n",
    "x = symbols('x')\n",
    "A, B = symbols('A B')\n",
    "\n",
    "# Định nghĩa hàm f(x) và f'(x)\n",
    "f = (14 - B) * exp((3 + sqrt(3))/2 * x) + B * exp((3 - sqrt(3))/2 * x)\n",
    "f_prime = f.diff(x)\n",
    "\n",
    "# Tính giá trị của f(key)\n",
    "key = 60  # Ví dụ giá trị key, bạn thay bằng giá trị thực tế\n",
    "f_lambdified = lambdify(x, f)\n",
    "f_key_value = f_lambdified(key)\n",
    "\n",
    "# Băm giá trị f(key) để tạo khóa AES\n",
    "f_key_value_str = f\"{f_key_value:.100f}\"\n",
    "hash_value = hashlib.sha256(f_key_value_str.encode()).hexdigest()\n",
    "\n",
    "print(f\"Giá trị f(key): {f_key_value}\")\n",
    "print(f\"SHA-256 hash: {hash_value}\")\n",
    "\n"
   ]
  }
 ],
 "metadata": {
  "kernelspec": {
   "display_name": "Python 3",
   "language": "python",
   "name": "python3"
  },
  "language_info": {
   "codemirror_mode": {
    "name": "ipython",
    "version": 3
   },
   "file_extension": ".py",
   "mimetype": "text/x-python",
   "name": "python",
   "nbconvert_exporter": "python",
   "pygments_lexer": "ipython3",
   "version": "3.10.12"
  }
 },
 "nbformat": 4,
 "nbformat_minor": 2
}
