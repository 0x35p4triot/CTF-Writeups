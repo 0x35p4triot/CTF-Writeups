{
 "cells": [
  {
   "cell_type": "code",
   "execution_count": null,
   "metadata": {},
   "outputs": [],
   "source": [
    "from pwn import *\n",
    "from Crypto.Util.number import long_to_bytes\n",
    "from tqdm import tqdm\n",
    "\n",
    "conn = remote('20.80.240.190', 4455)\n",
    "context.log_level = 'DEBUG'\n",
    "conn.recvuntil(b'n = ')\n",
    "n = int(conn.recvline().strip().decode())\n",
    "\n",
    "conn.recvuntil(b'e = ')\n",
    "e = int(conn.recvline().strip().decode())\n",
    "\n",
    "bin_flag = '1'\n",
    "pos_digit = ['0', '1']\n",
    "\n",
    "for i in tqdm(range(301, -1, -1)):\n",
    "    conn.sendline(str(i).encode())\n",
    "    conn.recvuntil(b'c = ')\n",
    "    c = int(conn.recvline().strip().decode())\n",
    "    for d in pos_digit:\n",
    "        test_flag = int(bin_flag + d, 2)\n",
    "        if pow(test_flag, e, n) == c:\n",
    "            bin_flag += d\n",
    "            break\n",
    "        \n",
    "print(long_to_bytes(int(bin_flag, 2)))"
   ]
  },
  {
   "cell_type": "code",
   "execution_count": null,
   "metadata": {},
   "outputs": [],
   "source": [
    "from Crypto.Util.number import long_to_bytes\n",
    "from pwn import *\n",
    "from tqdm import tqdm\n",
    "\n",
    "# f = remote('20.80.240.190', 4455)\n",
    "f = process([\"python3\", \"server.py\"])\n",
    "context.log_level = 'DEBUG'\n",
    "f.recvuntil(b'n = ')\n",
    "n = int(f.recvline().strip().decode())\n",
    "\n",
    "f.recvuntil(b'e = ')\n",
    "e = int(f.recvline().strip().decode())\n",
    "\n",
    "flag = 0\n",
    "for i in tqdm(range(302, -1, -1)):\n",
    "    f.sendline(str(i).encode())\n",
    "    f.recvuntil(b'c = ')\n",
    "    c = (int(f.recvline().strip().decode()))\n",
    "    flag *= 2\n",
    "    if pow(flag, e, n) == c:\n",
    "        continue\n",
    "    flag += 1\n",
    "print(long_to_bytes(flag))"
   ]
  }
 ],
 "metadata": {
  "kernelspec": {
   "display_name": "Python 3",
   "language": "python",
   "name": "python3"
  },
  "language_info": {
   "codemirror_mode": {
    "name": "ipython",
    "version": 3
   },
   "file_extension": ".py",
   "mimetype": "text/x-python",
   "name": "python",
   "nbconvert_exporter": "python",
   "pygments_lexer": "ipython3",
   "version": "3.10.12"
  }
 },
 "nbformat": 4,
 "nbformat_minor": 2
}
